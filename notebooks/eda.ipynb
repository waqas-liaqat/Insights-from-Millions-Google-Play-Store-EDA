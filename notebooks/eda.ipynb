{
 "cells": [
  {
   "cell_type": "markdown",
   "metadata": {},
   "source": [
    "<html>\n",
    "<head>\n",
    "    <style>\n",
    "        .chapter-heading {\n",
    "            background: linear-gradient(45deg, #333 25%, transparent 25%, transparent 75%, #333 75%, #333);\n",
    "            color: #4285F4;\n",
    "            padding: 10px;\n",
    "            border-radius: 5px;\n",
    "            box-shadow: 0 2px 4px rgba(0, 0, 0, 0.2);\n",
    "            text-align: center;\n",
    "            font-size: 18px;\n",
    "            font-weight: bold;\n",
    "            margin-bottom: 10px;\n",
    "        }\n",
    "    </style>\n",
    "</head>\n",
    "<body>\n",
    "    <div class=\"chapter-heading\">\n",
    "        <h1>Google Playstore EDA</h1>\n",
    "    </div>\n",
    "</body>\n",
    "</html>"
   ]
  },
  {
   "cell_type": "markdown",
   "metadata": {},
   "source": [
    "![logo](../images/logo.jpeg)"
   ]
  },
  {
   "cell_type": "markdown",
   "metadata": {},
   "source": [
    "<html>\n",
    "<head>\n",
    "    <style>\n",
    "        .chapter-heading {\n",
    "            background: linear-gradient(45deg, #333 25%, transparent 25%, transparent 75%, #333 75%, #333);\n",
    "            color: #4285F4;\n",
    "            padding: 10px;\n",
    "            border-radius: 5px;\n",
    "            box-shadow: 0 2px 4px rgba(0, 0, 0, 0.2);\n",
    "            text-align: center;\n",
    "            font-size: 18px;\n",
    "            font-weight: bold;\n",
    "            margin-bottom: 10px;\n",
    "        }\n",
    "    </style>\n",
    "</head>\n",
    "<body>\n",
    "    <div class=\"chapter-heading\">\n",
    "        <h1>1.0 About Author</h1>\n",
    "    </div>\n",
    "</body>\n",
    "</html>"
   ]
  },
  {
   "cell_type": "markdown",
   "metadata": {},
   "source": [
    "- Project: Google Play Store Apps\n",
    "- Author: Muhammad Waqas\n",
    "- Code Submision Date: 17-02-2024\n",
    "- Author's Contact Info: \n",
    "    - **Email:** waqasliaqat630@gmailcom\n",
    "    - [Linkedin](https://www.linkedin.com/in/muhammad-waqas-liaqat/)\n",
    "    - [Github](https://github.com/waqas-liaqat)\n",
    "    - [kaggle](https://www.kaggle.com/muhammadwaqas630)"
   ]
  },
  {
   "cell_type": "markdown",
   "metadata": {},
   "source": [
    "<html>\n",
    "<head>\n",
    "    <style>\n",
    "        .chapter-heading {\n",
    "            background: linear-gradient(45deg, #333 25%, transparent 25%, transparent 75%, #333 75%, #333);\n",
    "            color: #4285F4;\n",
    "            padding: 10px;\n",
    "            border-radius: 5px;\n",
    "            box-shadow: 0 2px 4px rgba(0, 0, 0, 0.2);\n",
    "            text-align: center;\n",
    "            font-size: 18px;\n",
    "            font-weight: bold;\n",
    "            margin-bottom: 10px;\n",
    "        }\n",
    "    </style>\n",
    "</head>\n",
    "<body>\n",
    "    <div class=\"chapter-heading\">\n",
    "        <h1>2.0 About Data</h1>\n",
    "    </div>\n",
    "</body>\n",
    "</html>"
   ]
  },
  {
   "cell_type": "markdown",
   "metadata": {},
   "source": [
    "### 2.1 MetaData"
   ]
  },
  {
   "cell_type": "markdown",
   "metadata": {},
   "source": [
    "- Data: Google Play Store Apps\n",
    "- Data Age: The data was collected in the month of june 2021.\n",
    "- Dataset: [link](https://www.kaggle.com/datasets/gauthamp10/google-playstore-apps)"
   ]
  },
  {
   "cell_type": "markdown",
   "metadata": {},
   "source": [
    "#### Columns Information"
   ]
  },
  {
   "cell_type": "markdown",
   "metadata": {},
   "source": [
    "| **Column Name** | **Description** |\n",
    "| :---: | :---: |\n",
    "| App Name | Name of the app |\n",
    "| App Id | Package name |\n",
    "| Category | App category |\n",
    "| Rating | Average rating |\n",
    "| Rating Count | Number of rating |\n",
    "| Installs | Approximate install count |\n",
    "| Minimum Installs | Approximate minimum app install count |\n",
    "| Maximum Installs | Approximate maximum app install count |\n",
    "| Free | Whether app is Free or Paid |\n",
    "| Price | App price |\n",
    "| Currency | App currency |\n",
    "| Size | Size of application package |\n",
    "| Minimum Android | Minimum android version supported |\n",
    "| Developer Id | Developer Id in Google Playstore |\n",
    "| Developer Website | Website of the developer |\n",
    "| Developer Email | Email-id of developer |\n",
    "| Released | App launch date on Google Playstore |\n",
    "| Last Updated | Last app update date |\n",
    "| Content Rating | Maturity level of app |\n",
    "| Privacy Policy | Privacy policy from developer |\n",
    "| Ad Supported | Ad support in app |\n",
    "| In App Purchases | In-App purchases in app |\n",
    "| Editors Choice | Whether rated as Editor Choice |\n",
    "| Scraped Time | Scraped date-time in GMT |"
   ]
  },
  {
   "cell_type": "markdown",
   "metadata": {},
   "source": [
    "### 2.2 Task"
   ]
  },
  {
   "cell_type": "markdown",
   "metadata": {},
   "source": [
    "We intend to conduct an Exploratory Data Analysis (EDA) on the given dataset. The EDA will serve as the basis for the necessary Data Wrangling activities to be carried out for the purposes of data cleaning and normalization. During the coding process, we will document our observations. Ultimately, we will produce a summary and draw conclusions from our findings."
   ]
  },
  {
   "cell_type": "markdown",
   "metadata": {},
   "source": [
    "### 2.3 Objective"
   ]
  },
  {
   "cell_type": "markdown",
   "metadata": {},
   "source": [
    "- The primary aim of this project is to conduct a thorough analysis of the dataset to identify significant insights. \n",
    "- The ultimate goal is to project and emphasize customer dynamics and demands to developers and other relevant stakeholders.\n",
    "- This will assist in driving more business towards their upcoming applications."
   ]
  },
  {
   "cell_type": "markdown",
   "metadata": {},
   "source": [
    "### 2.4 Kernel Version Used:"
   ]
  },
  {
   "cell_type": "markdown",
   "metadata": {},
   "source": [
    "- Python 3.12.0"
   ]
  },
  {
   "cell_type": "markdown",
   "metadata": {},
   "source": [
    "<html>\n",
    "<head>\n",
    "    <style>\n",
    "        .chapter-heading {\n",
    "            background: linear-gradient(45deg, #333 25%, transparent 25%, transparent 75%, #333 75%, #333);\n",
    "            color: #4285F4;\n",
    "            padding: 10px;\n",
    "            border-radius: 5px;\n",
    "            box-shadow: 0 2px 4px rgba(0, 0, 0, 0.2);\n",
    "            text-align: center;\n",
    "            font-size: 18px;\n",
    "            font-weight: bold;\n",
    "            margin-bottom: 10px;\n",
    "        }\n",
    "    </style>\n",
    "</head>\n",
    "<body>\n",
    "    <div class=\"chapter-heading\">\n",
    "        <h1>3.0 import libraries</h1>\n",
    "    </div>\n",
    "</body>\n",
    "</html>"
   ]
  },
  {
   "cell_type": "markdown",
   "metadata": {},
   "source": [
    "- We will use following libraries:\n",
    "    1. Pandas: For manipulation and analysis of data.\n",
    "    2. Numpy: For array manipulation & math functions for summarizing, transforming, visualizing data (stats, distributions, correlations).\n",
    "    3. Seaborn: For beautiful, informative statistical plots\n",
    "    4. Matplotlib: For informative & customizable visualizations"
   ]
  },
  {
   "cell_type": "code",
   "execution_count": 65,
   "metadata": {},
   "outputs": [],
   "source": [
    "import pandas as pd\n",
    "import numpy as np\n",
    "# visualization libraries\n",
    "import matplotlib.pyplot as plt\n",
    "import seaborn as sns\n",
    "# Enable inline plotting for convenience within the Jupyter notebook\n",
    "%matplotlib inline\n",
    "# use case of warnings.filterwarnings('ignore') is to suppress warnings in order to prevent them from being displayed during the execution of your code.\n",
    "import warnings\n",
    "warnings.filterwarnings('ignore')"
   ]
  },
  {
   "cell_type": "markdown",
   "metadata": {},
   "source": [
    "<html>\n",
    "<head>\n",
    "    <style>\n",
    "        .chapter-heading {\n",
    "            background: linear-gradient(45deg, #333 25%, transparent 25%, transparent 75%, #333 75%, #333);\n",
    "            color: #4285F4;\n",
    "            padding: 10px;\n",
    "            border-radius: 5px;\n",
    "            box-shadow: 0 2px 4px rgba(0, 0, 0, 0.2);\n",
    "            text-align: center;\n",
    "            font-size: 18px;\n",
    "            font-weight: bold;\n",
    "            margin-bottom: 10px;\n",
    "        }\n",
    "    </style>\n",
    "</head>\n",
    "<body>\n",
    "    <div class=\"chapter-heading\">\n",
    "        <h1>4.0 Data Loading, Exploration and Wrangling</h1>\n",
    "    </div>\n",
    "</body>\n",
    "</html>"
   ]
  },
  {
   "cell_type": "markdown",
   "metadata": {},
   "source": [
    "we will proceed as follows:"
   ]
  },
  {
   "cell_type": "markdown",
   "metadata": {},
   "source": [
    "### 4.1 Load Dataset"
   ]
  },
  {
   "cell_type": "code",
   "execution_count": 66,
   "metadata": {},
   "outputs": [],
   "source": [
    "df=pd.read_csv(\"../data/raw_data.csv\")"
   ]
  },
  {
   "cell_type": "markdown",
   "metadata": {},
   "source": [
    "### 4.2 Increase Readability of Wide DataFrames"
   ]
  },
  {
   "cell_type": "markdown",
   "metadata": {},
   "source": [
    "When working with large datasets, DataFrames can easily contain more columns and rows than can comfortably fit on your screen. This can make it difficult to read and understand the data. So we will use the following code snippet, so that no valuable information can be overlooked. "
   ]
  },
  {
   "cell_type": "code",
   "execution_count": 67,
   "metadata": {},
   "outputs": [],
   "source": [
    "pd.set_option('display.max_columns',None)\n",
    "pd.set_option('display.max_rows',None)"
   ]
  },
  {
   "cell_type": "markdown",
   "metadata": {},
   "source": [
    "### 4.3 Get sneak Pek of data"
   ]
  },
  {
   "cell_type": "markdown",
   "metadata": {},
   "source": [
    "- With this piece of code we can get some sense of data, by viewing top rows.\n",
    "- Also it saves our time of getting into large file of data to get sense of data."
   ]
  },
  {
   "cell_type": "code",
   "execution_count": 68,
   "metadata": {},
   "outputs": [
    {
     "data": {
      "text/html": [
       "<div>\n",
       "<style scoped>\n",
       "    .dataframe tbody tr th:only-of-type {\n",
       "        vertical-align: middle;\n",
       "    }\n",
       "\n",
       "    .dataframe tbody tr th {\n",
       "        vertical-align: top;\n",
       "    }\n",
       "\n",
       "    .dataframe thead th {\n",
       "        text-align: right;\n",
       "    }\n",
       "</style>\n",
       "<table border=\"1\" class=\"dataframe\">\n",
       "  <thead>\n",
       "    <tr style=\"text-align: right;\">\n",
       "      <th></th>\n",
       "      <th>App Name</th>\n",
       "      <th>App Id</th>\n",
       "      <th>Category</th>\n",
       "      <th>Rating</th>\n",
       "      <th>Rating Count</th>\n",
       "      <th>Installs</th>\n",
       "      <th>Minimum Installs</th>\n",
       "      <th>Maximum Installs</th>\n",
       "      <th>Free</th>\n",
       "      <th>Price</th>\n",
       "      <th>Currency</th>\n",
       "      <th>Size</th>\n",
       "      <th>Minimum Android</th>\n",
       "      <th>Developer Id</th>\n",
       "      <th>Developer Website</th>\n",
       "      <th>Developer Email</th>\n",
       "      <th>Released</th>\n",
       "      <th>Last Updated</th>\n",
       "      <th>Content Rating</th>\n",
       "      <th>Privacy Policy</th>\n",
       "      <th>Ad Supported</th>\n",
       "      <th>In App Purchases</th>\n",
       "      <th>Editors Choice</th>\n",
       "      <th>Scraped Time</th>\n",
       "    </tr>\n",
       "  </thead>\n",
       "  <tbody>\n",
       "    <tr>\n",
       "      <th>0</th>\n",
       "      <td>Gakondo</td>\n",
       "      <td>com.ishakwe.gakondo</td>\n",
       "      <td>Adventure</td>\n",
       "      <td>0.0</td>\n",
       "      <td>0.0</td>\n",
       "      <td>10+</td>\n",
       "      <td>10.0</td>\n",
       "      <td>15</td>\n",
       "      <td>True</td>\n",
       "      <td>0.0</td>\n",
       "      <td>USD</td>\n",
       "      <td>10M</td>\n",
       "      <td>7.1 and up</td>\n",
       "      <td>Jean Confident Irénée NIYIZIBYOSE</td>\n",
       "      <td>https://beniyizibyose.tk/#/</td>\n",
       "      <td>jean21101999@gmail.com</td>\n",
       "      <td>Feb 26, 2020</td>\n",
       "      <td>Feb 26, 2020</td>\n",
       "      <td>Everyone</td>\n",
       "      <td>https://beniyizibyose.tk/projects/</td>\n",
       "      <td>False</td>\n",
       "      <td>False</td>\n",
       "      <td>False</td>\n",
       "      <td>2021-06-15 20:19:35</td>\n",
       "    </tr>\n",
       "    <tr>\n",
       "      <th>1</th>\n",
       "      <td>Ampere Battery Info</td>\n",
       "      <td>com.webserveis.batteryinfo</td>\n",
       "      <td>Tools</td>\n",
       "      <td>4.4</td>\n",
       "      <td>64.0</td>\n",
       "      <td>5,000+</td>\n",
       "      <td>5000.0</td>\n",
       "      <td>7662</td>\n",
       "      <td>True</td>\n",
       "      <td>0.0</td>\n",
       "      <td>USD</td>\n",
       "      <td>2.9M</td>\n",
       "      <td>5.0 and up</td>\n",
       "      <td>Webserveis</td>\n",
       "      <td>https://webserveis.netlify.app/</td>\n",
       "      <td>webserveis@gmail.com</td>\n",
       "      <td>May 21, 2020</td>\n",
       "      <td>May 06, 2021</td>\n",
       "      <td>Everyone</td>\n",
       "      <td>https://dev4phones.wordpress.com/licencia-de-uso/</td>\n",
       "      <td>True</td>\n",
       "      <td>False</td>\n",
       "      <td>False</td>\n",
       "      <td>2021-06-15 20:19:35</td>\n",
       "    </tr>\n",
       "    <tr>\n",
       "      <th>2</th>\n",
       "      <td>Vibook</td>\n",
       "      <td>com.doantiepvien.crm</td>\n",
       "      <td>Productivity</td>\n",
       "      <td>0.0</td>\n",
       "      <td>0.0</td>\n",
       "      <td>50+</td>\n",
       "      <td>50.0</td>\n",
       "      <td>58</td>\n",
       "      <td>True</td>\n",
       "      <td>0.0</td>\n",
       "      <td>USD</td>\n",
       "      <td>3.7M</td>\n",
       "      <td>4.0.3 and up</td>\n",
       "      <td>Cabin Crew</td>\n",
       "      <td>NaN</td>\n",
       "      <td>vnacrewit@gmail.com</td>\n",
       "      <td>Aug 9, 2019</td>\n",
       "      <td>Aug 19, 2019</td>\n",
       "      <td>Everyone</td>\n",
       "      <td>https://www.vietnamairlines.com/vn/en/terms-an...</td>\n",
       "      <td>False</td>\n",
       "      <td>False</td>\n",
       "      <td>False</td>\n",
       "      <td>2021-06-15 20:19:35</td>\n",
       "    </tr>\n",
       "    <tr>\n",
       "      <th>3</th>\n",
       "      <td>Smart City Trichy Public Service Vehicles 17UC...</td>\n",
       "      <td>cst.stJoseph.ug17ucs548</td>\n",
       "      <td>Communication</td>\n",
       "      <td>5.0</td>\n",
       "      <td>5.0</td>\n",
       "      <td>10+</td>\n",
       "      <td>10.0</td>\n",
       "      <td>19</td>\n",
       "      <td>True</td>\n",
       "      <td>0.0</td>\n",
       "      <td>USD</td>\n",
       "      <td>1.8M</td>\n",
       "      <td>4.0.3 and up</td>\n",
       "      <td>Climate Smart Tech2</td>\n",
       "      <td>http://www.climatesmarttech.com/</td>\n",
       "      <td>climatesmarttech2@gmail.com</td>\n",
       "      <td>Sep 10, 2018</td>\n",
       "      <td>Oct 13, 2018</td>\n",
       "      <td>Everyone</td>\n",
       "      <td>NaN</td>\n",
       "      <td>True</td>\n",
       "      <td>False</td>\n",
       "      <td>False</td>\n",
       "      <td>2021-06-15 20:19:35</td>\n",
       "    </tr>\n",
       "    <tr>\n",
       "      <th>4</th>\n",
       "      <td>GROW.me</td>\n",
       "      <td>com.horodyski.grower</td>\n",
       "      <td>Tools</td>\n",
       "      <td>0.0</td>\n",
       "      <td>0.0</td>\n",
       "      <td>100+</td>\n",
       "      <td>100.0</td>\n",
       "      <td>478</td>\n",
       "      <td>True</td>\n",
       "      <td>0.0</td>\n",
       "      <td>USD</td>\n",
       "      <td>6.2M</td>\n",
       "      <td>4.1 and up</td>\n",
       "      <td>Rafal Milek-Horodyski</td>\n",
       "      <td>http://www.horodyski.com.pl</td>\n",
       "      <td>rmilekhorodyski@gmail.com</td>\n",
       "      <td>Feb 21, 2020</td>\n",
       "      <td>Nov 12, 2018</td>\n",
       "      <td>Everyone</td>\n",
       "      <td>http://www.horodyski.com.pl</td>\n",
       "      <td>False</td>\n",
       "      <td>False</td>\n",
       "      <td>False</td>\n",
       "      <td>2021-06-15 20:19:35</td>\n",
       "    </tr>\n",
       "  </tbody>\n",
       "</table>\n",
       "</div>"
      ],
      "text/plain": [
       "                                            App Name  \\\n",
       "0                                            Gakondo   \n",
       "1                                Ampere Battery Info   \n",
       "2                                             Vibook   \n",
       "3  Smart City Trichy Public Service Vehicles 17UC...   \n",
       "4                                            GROW.me   \n",
       "\n",
       "                       App Id       Category  Rating  Rating Count Installs  \\\n",
       "0         com.ishakwe.gakondo      Adventure     0.0           0.0      10+   \n",
       "1  com.webserveis.batteryinfo          Tools     4.4          64.0   5,000+   \n",
       "2        com.doantiepvien.crm   Productivity     0.0           0.0      50+   \n",
       "3     cst.stJoseph.ug17ucs548  Communication     5.0           5.0      10+   \n",
       "4        com.horodyski.grower          Tools     0.0           0.0     100+   \n",
       "\n",
       "   Minimum Installs  Maximum Installs  Free  Price Currency  Size  \\\n",
       "0              10.0                15  True    0.0      USD   10M   \n",
       "1            5000.0              7662  True    0.0      USD  2.9M   \n",
       "2              50.0                58  True    0.0      USD  3.7M   \n",
       "3              10.0                19  True    0.0      USD  1.8M   \n",
       "4             100.0               478  True    0.0      USD  6.2M   \n",
       "\n",
       "  Minimum Android                       Developer Id  \\\n",
       "0      7.1 and up  Jean Confident Irénée NIYIZIBYOSE   \n",
       "1      5.0 and up                         Webserveis   \n",
       "2    4.0.3 and up                         Cabin Crew   \n",
       "3    4.0.3 and up                Climate Smart Tech2   \n",
       "4      4.1 and up              Rafal Milek-Horodyski   \n",
       "\n",
       "                  Developer Website              Developer Email  \\\n",
       "0       https://beniyizibyose.tk/#/       jean21101999@gmail.com   \n",
       "1   https://webserveis.netlify.app/         webserveis@gmail.com   \n",
       "2                               NaN          vnacrewit@gmail.com   \n",
       "3  http://www.climatesmarttech.com/  climatesmarttech2@gmail.com   \n",
       "4       http://www.horodyski.com.pl    rmilekhorodyski@gmail.com   \n",
       "\n",
       "       Released  Last Updated Content Rating  \\\n",
       "0  Feb 26, 2020  Feb 26, 2020       Everyone   \n",
       "1  May 21, 2020  May 06, 2021       Everyone   \n",
       "2   Aug 9, 2019  Aug 19, 2019       Everyone   \n",
       "3  Sep 10, 2018  Oct 13, 2018       Everyone   \n",
       "4  Feb 21, 2020  Nov 12, 2018       Everyone   \n",
       "\n",
       "                                      Privacy Policy  Ad Supported  \\\n",
       "0                 https://beniyizibyose.tk/projects/         False   \n",
       "1  https://dev4phones.wordpress.com/licencia-de-uso/          True   \n",
       "2  https://www.vietnamairlines.com/vn/en/terms-an...         False   \n",
       "3                                                NaN          True   \n",
       "4                        http://www.horodyski.com.pl         False   \n",
       "\n",
       "   In App Purchases  Editors Choice         Scraped Time  \n",
       "0             False           False  2021-06-15 20:19:35  \n",
       "1             False           False  2021-06-15 20:19:35  \n",
       "2             False           False  2021-06-15 20:19:35  \n",
       "3             False           False  2021-06-15 20:19:35  \n",
       "4             False           False  2021-06-15 20:19:35  "
      ]
     },
     "execution_count": 68,
     "metadata": {},
     "output_type": "execute_result"
    }
   ],
   "source": [
    "df.head()"
   ]
  },
  {
   "cell_type": "markdown",
   "metadata": {},
   "source": [
    "### 4.4 View column names"
   ]
  },
  {
   "cell_type": "code",
   "execution_count": 69,
   "metadata": {},
   "outputs": [
    {
     "data": {
      "text/plain": [
       "Index(['App Name', 'App Id', 'Category', 'Rating', 'Rating Count', 'Installs',\n",
       "       'Minimum Installs', 'Maximum Installs', 'Free', 'Price', 'Currency',\n",
       "       'Size', 'Minimum Android', 'Developer Id', 'Developer Website',\n",
       "       'Developer Email', 'Released', 'Last Updated', 'Content Rating',\n",
       "       'Privacy Policy', 'Ad Supported', 'In App Purchases', 'Editors Choice',\n",
       "       'Scraped Time'],\n",
       "      dtype='object')"
      ]
     },
     "execution_count": 69,
     "metadata": {},
     "output_type": "execute_result"
    }
   ],
   "source": [
    "df.columns"
   ]
  },
  {
   "cell_type": "markdown",
   "metadata": {},
   "source": [
    "### 4.5 View Shape of dataset"
   ]
  },
  {
   "cell_type": "code",
   "execution_count": 70,
   "metadata": {},
   "outputs": [
    {
     "name": "stdout",
     "output_type": "stream",
     "text": [
      "The dataframe has 2312944 rows and 24 columns\n"
     ]
    }
   ],
   "source": [
    "print(f\"The dataframe has {df.shape[0]} rows and {df.shape[1]} columns\")"
   ]
  },
  {
   "cell_type": "markdown",
   "metadata": {},
   "source": [
    "### 4.6 Data information"
   ]
  },
  {
   "cell_type": "code",
   "execution_count": 71,
   "metadata": {},
   "outputs": [
    {
     "name": "stdout",
     "output_type": "stream",
     "text": [
      "<class 'pandas.core.frame.DataFrame'>\n",
      "RangeIndex: 2312944 entries, 0 to 2312943\n",
      "Data columns (total 24 columns):\n",
      " #   Column             Dtype  \n",
      "---  ------             -----  \n",
      " 0   App Name           object \n",
      " 1   App Id             object \n",
      " 2   Category           object \n",
      " 3   Rating             float64\n",
      " 4   Rating Count       float64\n",
      " 5   Installs           object \n",
      " 6   Minimum Installs   float64\n",
      " 7   Maximum Installs   int64  \n",
      " 8   Free               bool   \n",
      " 9   Price              float64\n",
      " 10  Currency           object \n",
      " 11  Size               object \n",
      " 12  Minimum Android    object \n",
      " 13  Developer Id       object \n",
      " 14  Developer Website  object \n",
      " 15  Developer Email    object \n",
      " 16  Released           object \n",
      " 17  Last Updated       object \n",
      " 18  Content Rating     object \n",
      " 19  Privacy Policy     object \n",
      " 20  Ad Supported       bool   \n",
      " 21  In App Purchases   bool   \n",
      " 22  Editors Choice     bool   \n",
      " 23  Scraped Time       object \n",
      "dtypes: bool(4), float64(4), int64(1), object(15)\n",
      "memory usage: 361.8+ MB\n"
     ]
    }
   ],
   "source": [
    "df.info()"
   ]
  },
  {
   "cell_type": "markdown",
   "metadata": {},
   "source": [
    "**Observation set 1:**\n",
    "1. We have 4 bool, 4 float, 1 int and 15 object columns in our dataset.\n",
    "2. 'Released' and 'Last Updated' should be converted to datetime.\n",
    "3. We should convert \"Size\" column to numerical with name size_in_mb.\n",
    "4. \"Scrapped Time\" is totally irrelevent feature in our apps dataset, it should be removed."
   ]
  },
  {
   "cell_type": "markdown",
   "metadata": {},
   "source": [
    "### 4.7 Missing Values"
   ]
  },
  {
   "cell_type": "markdown",
   "metadata": {},
   "source": [
    "#### 4.7.1 Finding Missing Values"
   ]
  },
  {
   "cell_type": "code",
   "execution_count": 72,
   "metadata": {},
   "outputs": [
    {
     "data": {
      "text/plain": [
       "Developer Website    760835\n",
       "Privacy Policy       420953\n",
       "Released              71053\n",
       "Rating                22883\n",
       "Rating Count          22883\n",
       "Minimum Android        6530\n",
       "Size                    196\n",
       "Currency                135\n",
       "Installs                107\n",
       "Minimum Installs        107\n",
       "Developer Id             33\n",
       "Developer Email          31\n",
       "App Name                  5\n",
       "App Id                    0\n",
       "Price                     0\n",
       "Free                      0\n",
       "Maximum Installs          0\n",
       "Last Updated              0\n",
       "Content Rating            0\n",
       "Category                  0\n",
       "Ad Supported              0\n",
       "In App Purchases          0\n",
       "Editors Choice            0\n",
       "Scraped Time              0\n",
       "dtype: int64"
      ]
     },
     "execution_count": 72,
     "metadata": {},
     "output_type": "execute_result"
    }
   ],
   "source": [
    "df.isnull().sum().sort_values(ascending=False)"
   ]
  },
  {
   "cell_type": "code",
   "execution_count": 73,
   "metadata": {},
   "outputs": [
    {
     "data": {
      "text/plain": [
       "Developer Website    32.894657\n",
       "Privacy Policy       18.199879\n",
       "Released              3.071972\n",
       "Rating                0.989345\n",
       "Rating Count          0.989345\n",
       "Minimum Android       0.282324\n",
       "Size                  0.008474\n",
       "Currency              0.005837\n",
       "Installs              0.004626\n",
       "Minimum Installs      0.004626\n",
       "Developer Id          0.001427\n",
       "Developer Email       0.001340\n",
       "App Name              0.000216\n",
       "App Id                0.000000\n",
       "Price                 0.000000\n",
       "Free                  0.000000\n",
       "Maximum Installs      0.000000\n",
       "Last Updated          0.000000\n",
       "Content Rating        0.000000\n",
       "Category              0.000000\n",
       "Ad Supported          0.000000\n",
       "In App Purchases      0.000000\n",
       "Editors Choice        0.000000\n",
       "Scraped Time          0.000000\n",
       "dtype: float64"
      ]
     },
     "execution_count": 73,
     "metadata": {},
     "output_type": "execute_result"
    }
   ],
   "source": [
    "((df.isnull().sum()/len(df))*100).sort_values(ascending=False)"
   ]
  },
  {
   "cell_type": "code",
   "execution_count": 74,
   "metadata": {},
   "outputs": [
    {
     "data": {
      "text/plain": [
       "<Axes: >"
      ]
     },
     "execution_count": 74,
     "metadata": {},
     "output_type": "execute_result"
    },
    {
     "data": {
      "image/png": "[encoded data removed]",
      "text/plain": [
       "<Figure size 640x480 with 2 Axes>"
      ]
     },
     "metadata": {},
     "output_type": "display_data"
    }
   ],
   "source": [
    "sns.heatmap(df.isnull())"
   ]
  },
  {
   "cell_type": "markdown",
   "metadata": {},
   "source": [
    "#### 4.7.2 Handling Missing Values"
   ]
  },
  {
   "cell_type": "code",
   "execution_count": 75,
   "metadata": {},
   "outputs": [
    {
     "data": {
      "text/html": [
       "<div>\n",
       "<style scoped>\n",
       "    .dataframe tbody tr th:only-of-type {\n",
       "        vertical-align: middle;\n",
       "    }\n",
       "\n",
       "    .dataframe tbody tr th {\n",
       "        vertical-align: top;\n",
       "    }\n",
       "\n",
       "    .dataframe thead th {\n",
       "        text-align: right;\n",
       "    }\n",
       "</style>\n",
       "<table border=\"1\" class=\"dataframe\">\n",
       "  <thead>\n",
       "    <tr style=\"text-align: right;\">\n",
       "      <th></th>\n",
       "      <th>App Name</th>\n",
       "      <th>App Id</th>\n",
       "      <th>Category</th>\n",
       "      <th>Rating</th>\n",
       "      <th>Rating Count</th>\n",
       "      <th>Installs</th>\n",
       "      <th>Minimum Installs</th>\n",
       "      <th>Maximum Installs</th>\n",
       "      <th>Free</th>\n",
       "      <th>Price</th>\n",
       "      <th>Currency</th>\n",
       "      <th>Size</th>\n",
       "      <th>Minimum Android</th>\n",
       "      <th>Developer Id</th>\n",
       "      <th>Developer Website</th>\n",
       "      <th>Developer Email</th>\n",
       "      <th>Released</th>\n",
       "      <th>Last Updated</th>\n",
       "      <th>Content Rating</th>\n",
       "      <th>Privacy Policy</th>\n",
       "      <th>Ad Supported</th>\n",
       "      <th>In App Purchases</th>\n",
       "      <th>Editors Choice</th>\n",
       "      <th>Scraped Time</th>\n",
       "    </tr>\n",
       "  </thead>\n",
       "  <tbody>\n",
       "    <tr>\n",
       "      <th>0</th>\n",
       "      <td>Gakondo</td>\n",
       "      <td>com.ishakwe.gakondo</td>\n",
       "      <td>Adventure</td>\n",
       "      <td>0.0</td>\n",
       "      <td>0.0</td>\n",
       "      <td>10+</td>\n",
       "      <td>10.0</td>\n",
       "      <td>15</td>\n",
       "      <td>True</td>\n",
       "      <td>0.0</td>\n",
       "      <td>USD</td>\n",
       "      <td>10M</td>\n",
       "      <td>7.1 and up</td>\n",
       "      <td>Jean Confident Irénée NIYIZIBYOSE</td>\n",
       "      <td>https://beniyizibyose.tk/#/</td>\n",
       "      <td>jean21101999@gmail.com</td>\n",
       "      <td>Feb 26, 2020</td>\n",
       "      <td>Feb 26, 2020</td>\n",
       "      <td>Everyone</td>\n",
       "      <td>https://beniyizibyose.tk/projects/</td>\n",
       "      <td>False</td>\n",
       "      <td>False</td>\n",
       "      <td>False</td>\n",
       "      <td>2021-06-15 20:19:35</td>\n",
       "    </tr>\n",
       "    <tr>\n",
       "      <th>1</th>\n",
       "      <td>Ampere Battery Info</td>\n",
       "      <td>com.webserveis.batteryinfo</td>\n",
       "      <td>Tools</td>\n",
       "      <td>4.4</td>\n",
       "      <td>64.0</td>\n",
       "      <td>5,000+</td>\n",
       "      <td>5000.0</td>\n",
       "      <td>7662</td>\n",
       "      <td>True</td>\n",
       "      <td>0.0</td>\n",
       "      <td>USD</td>\n",
       "      <td>2.9M</td>\n",
       "      <td>5.0 and up</td>\n",
       "      <td>Webserveis</td>\n",
       "      <td>https://webserveis.netlify.app/</td>\n",
       "      <td>webserveis@gmail.com</td>\n",
       "      <td>May 21, 2020</td>\n",
       "      <td>May 06, 2021</td>\n",
       "      <td>Everyone</td>\n",
       "      <td>https://dev4phones.wordpress.com/licencia-de-uso/</td>\n",
       "      <td>True</td>\n",
       "      <td>False</td>\n",
       "      <td>False</td>\n",
       "      <td>2021-06-15 20:19:35</td>\n",
       "    </tr>\n",
       "    <tr>\n",
       "      <th>2</th>\n",
       "      <td>Vibook</td>\n",
       "      <td>com.doantiepvien.crm</td>\n",
       "      <td>Productivity</td>\n",
       "      <td>0.0</td>\n",
       "      <td>0.0</td>\n",
       "      <td>50+</td>\n",
       "      <td>50.0</td>\n",
       "      <td>58</td>\n",
       "      <td>True</td>\n",
       "      <td>0.0</td>\n",
       "      <td>USD</td>\n",
       "      <td>3.7M</td>\n",
       "      <td>4.0.3 and up</td>\n",
       "      <td>Cabin Crew</td>\n",
       "      <td>NaN</td>\n",
       "      <td>vnacrewit@gmail.com</td>\n",
       "      <td>Aug 9, 2019</td>\n",
       "      <td>Aug 19, 2019</td>\n",
       "      <td>Everyone</td>\n",
       "      <td>https://www.vietnamairlines.com/vn/en/terms-an...</td>\n",
       "      <td>False</td>\n",
       "      <td>False</td>\n",
       "      <td>False</td>\n",
       "      <td>2021-06-15 20:19:35</td>\n",
       "    </tr>\n",
       "    <tr>\n",
       "      <th>3</th>\n",
       "      <td>Smart City Trichy Public Service Vehicles 17UC...</td>\n",
       "      <td>cst.stJoseph.ug17ucs548</td>\n",
       "      <td>Communication</td>\n",
       "      <td>5.0</td>\n",
       "      <td>5.0</td>\n",
       "      <td>10+</td>\n",
       "      <td>10.0</td>\n",
       "      <td>19</td>\n",
       "      <td>True</td>\n",
       "      <td>0.0</td>\n",
       "      <td>USD</td>\n",
       "      <td>1.8M</td>\n",
       "      <td>4.0.3 and up</td>\n",
       "      <td>Climate Smart Tech2</td>\n",
       "      <td>http://www.climatesmarttech.com/</td>\n",
       "      <td>climatesmarttech2@gmail.com</td>\n",
       "      <td>Sep 10, 2018</td>\n",
       "      <td>Oct 13, 2018</td>\n",
       "      <td>Everyone</td>\n",
       "      <td>NaN</td>\n",
       "      <td>True</td>\n",
       "      <td>False</td>\n",
       "      <td>False</td>\n",
       "      <td>2021-06-15 20:19:35</td>\n",
       "    </tr>\n",
       "    <tr>\n",
       "      <th>4</th>\n",
       "      <td>GROW.me</td>\n",
       "      <td>com.horodyski.grower</td>\n",
       "      <td>Tools</td>\n",
       "      <td>0.0</td>\n",
       "      <td>0.0</td>\n",
       "      <td>100+</td>\n",
       "      <td>100.0</td>\n",
       "      <td>478</td>\n",
       "      <td>True</td>\n",
       "      <td>0.0</td>\n",
       "      <td>USD</td>\n",
       "      <td>6.2M</td>\n",
       "      <td>4.1 and up</td>\n",
       "      <td>Rafal Milek-Horodyski</td>\n",
       "      <td>http://www.horodyski.com.pl</td>\n",
       "      <td>rmilekhorodyski@gmail.com</td>\n",
       "      <td>Feb 21, 2020</td>\n",
       "      <td>Nov 12, 2018</td>\n",
       "      <td>Everyone</td>\n",
       "      <td>http://www.horodyski.com.pl</td>\n",
       "      <td>False</td>\n",
       "      <td>False</td>\n",
       "      <td>False</td>\n",
       "      <td>2021-06-15 20:19:35</td>\n",
       "    </tr>\n",
       "  </tbody>\n",
       "</table>\n",
       "</div>"
      ],
      "text/plain": [
       "                                            App Name  \\\n",
       "0                                            Gakondo   \n",
       "1                                Ampere Battery Info   \n",
       "2                                             Vibook   \n",
       "3  Smart City Trichy Public Service Vehicles 17UC...   \n",
       "4                                            GROW.me   \n",
       "\n",
       "                       App Id       Category  Rating  Rating Count Installs  \\\n",
       "0         com.ishakwe.gakondo      Adventure     0.0           0.0      10+   \n",
       "1  com.webserveis.batteryinfo          Tools     4.4          64.0   5,000+   \n",
       "2        com.doantiepvien.crm   Productivity     0.0           0.0      50+   \n",
       "3     cst.stJoseph.ug17ucs548  Communication     5.0           5.0      10+   \n",
       "4        com.horodyski.grower          Tools     0.0           0.0     100+   \n",
       "\n",
       "   Minimum Installs  Maximum Installs  Free  Price Currency  Size  \\\n",
       "0              10.0                15  True    0.0      USD   10M   \n",
       "1            5000.0              7662  True    0.0      USD  2.9M   \n",
       "2              50.0                58  True    0.0      USD  3.7M   \n",
       "3              10.0                19  True    0.0      USD  1.8M   \n",
       "4             100.0               478  True    0.0      USD  6.2M   \n",
       "\n",
       "  Minimum Android                       Developer Id  \\\n",
       "0      7.1 and up  Jean Confident Irénée NIYIZIBYOSE   \n",
       "1      5.0 and up                         Webserveis   \n",
       "2    4.0.3 and up                         Cabin Crew   \n",
       "3    4.0.3 and up                Climate Smart Tech2   \n",
       "4      4.1 and up              Rafal Milek-Horodyski   \n",
       "\n",
       "                  Developer Website              Developer Email  \\\n",
       "0       https://beniyizibyose.tk/#/       jean21101999@gmail.com   \n",
       "1   https://webserveis.netlify.app/         webserveis@gmail.com   \n",
       "2                               NaN          vnacrewit@gmail.com   \n",
       "3  http://www.climatesmarttech.com/  climatesmarttech2@gmail.com   \n",
       "4       http://www.horodyski.com.pl    rmilekhorodyski@gmail.com   \n",
       "\n",
       "       Released  Last Updated Content Rating  \\\n",
       "0  Feb 26, 2020  Feb 26, 2020       Everyone   \n",
       "1  May 21, 2020  May 06, 2021       Everyone   \n",
       "2   Aug 9, 2019  Aug 19, 2019       Everyone   \n",
       "3  Sep 10, 2018  Oct 13, 2018       Everyone   \n",
       "4  Feb 21, 2020  Nov 12, 2018       Everyone   \n",
       "\n",
       "                                      Privacy Policy  Ad Supported  \\\n",
       "0                 https://beniyizibyose.tk/projects/         False   \n",
       "1  https://dev4phones.wordpress.com/licencia-de-uso/          True   \n",
       "2  https://www.vietnamairlines.com/vn/en/terms-an...         False   \n",
       "3                                                NaN          True   \n",
       "4                        http://www.horodyski.com.pl         False   \n",
       "\n",
       "   In App Purchases  Editors Choice         Scraped Time  \n",
       "0             False           False  2021-06-15 20:19:35  \n",
       "1             False           False  2021-06-15 20:19:35  \n",
       "2             False           False  2021-06-15 20:19:35  \n",
       "3             False           False  2021-06-15 20:19:35  \n",
       "4             False           False  2021-06-15 20:19:35  "
      ]
     },
     "execution_count": 75,
     "metadata": {},
     "output_type": "execute_result"
    }
   ],
   "source": [
    "# quick overview of data\n",
    "df.head()"
   ]
  },
  {
   "cell_type": "markdown",
   "metadata": {},
   "source": [
    "- As Developer Website, Privacy Policy, Developer Id and Developer Email are null, most probably because developer may not have these. We can fill them with \"not present\"."
   ]
  },
  {
   "cell_type": "code",
   "execution_count": 76,
   "metadata": {},
   "outputs": [
    {
     "data": {
      "text/plain": [
       "Developer Website    0\n",
       "Privacy Policy       0\n",
       "Developer Id         0\n",
       "Developer Email      0\n",
       "dtype: int64"
      ]
     },
     "execution_count": 76,
     "metadata": {},
     "output_type": "execute_result"
    }
   ],
   "source": [
    "# filing null with \"not present\"\n",
    "df[\"Developer Website\"]=df[\"Developer Website\"].fillna(value=\"not present\")\n",
    "df[\"Privacy Policy\"]=df[\"Privacy Policy\"].fillna(value=\"not present\")\n",
    "df[\"Developer Id\"]=df[\"Developer Id\"].fillna(value=\"not present\")\n",
    "df[\"Developer Email\"]=df[\"Developer Email\"].fillna(value=\"not present\")\n",
    "# have a view of these refreshed rows after filling missing.\n",
    "df[[\"Developer Website\", \"Privacy Policy\", \"Developer Id\", \"Developer Email\"]].isnull().sum()"
   ]
  },
  {
   "cell_type": "markdown",
   "metadata": {},
   "source": [
    "**App Names & Minimum Androids**"
   ]
  },
  {
   "cell_type": "markdown",
   "metadata": {},
   "source": [
    "- As there are just some missing app names and minimum android, Hence we can drop that null rows"
   ]
  },
  {
   "cell_type": "code",
   "execution_count": 77,
   "metadata": {},
   "outputs": [
    {
     "data": {
      "text/plain": [
       "App Name           0\n",
       "Minimum Android    0\n",
       "dtype: int64"
      ]
     },
     "execution_count": 77,
     "metadata": {},
     "output_type": "execute_result"
    }
   ],
   "source": [
    "#Dropping null rows\n",
    "df=df.dropna(subset=[\"App Name\"])\n",
    "df=df.dropna(subset=[\"Minimum Android\"])\n",
    "# let's check\n",
    "df[[\"App Name\",\"Minimum Android\"]].isnull().sum()"
   ]
  },
  {
   "cell_type": "markdown",
   "metadata": {},
   "source": [
    "**Size**"
   ]
  },
  {
   "cell_type": "code",
   "execution_count": 78,
   "metadata": {},
   "outputs": [
    {
     "data": {
      "text/html": [
       "<div>\n",
       "<style scoped>\n",
       "    .dataframe tbody tr th:only-of-type {\n",
       "        vertical-align: middle;\n",
       "    }\n",
       "\n",
       "    .dataframe tbody tr th {\n",
       "        vertical-align: top;\n",
       "    }\n",
       "\n",
       "    .dataframe thead th {\n",
       "        text-align: right;\n",
       "    }\n",
       "</style>\n",
       "<table border=\"1\" class=\"dataframe\">\n",
       "  <thead>\n",
       "    <tr style=\"text-align: right;\">\n",
       "      <th></th>\n",
       "      <th>App Name</th>\n",
       "      <th>App Id</th>\n",
       "      <th>Category</th>\n",
       "      <th>Rating</th>\n",
       "      <th>Rating Count</th>\n",
       "      <th>Installs</th>\n",
       "      <th>Minimum Installs</th>\n",
       "      <th>Maximum Installs</th>\n",
       "      <th>Free</th>\n",
       "      <th>Price</th>\n",
       "      <th>Currency</th>\n",
       "      <th>Size</th>\n",
       "      <th>Minimum Android</th>\n",
       "      <th>Developer Id</th>\n",
       "      <th>Developer Website</th>\n",
       "      <th>Developer Email</th>\n",
       "      <th>Released</th>\n",
       "      <th>Last Updated</th>\n",
       "      <th>Content Rating</th>\n",
       "      <th>Privacy Policy</th>\n",
       "      <th>Ad Supported</th>\n",
       "      <th>In App Purchases</th>\n",
       "      <th>Editors Choice</th>\n",
       "      <th>Scraped Time</th>\n",
       "    </tr>\n",
       "  </thead>\n",
       "  <tbody>\n",
       "    <tr>\n",
       "      <th>37031</th>\n",
       "      <td>Change The World Together: My Travel Friends V...</td>\n",
       "      <td>com.mytravelfriends.changetheworldtogether</td>\n",
       "      <td>Education</td>\n",
       "      <td>NaN</td>\n",
       "      <td>NaN</td>\n",
       "      <td>1+</td>\n",
       "      <td>1.0</td>\n",
       "      <td>3</td>\n",
       "      <td>True</td>\n",
       "      <td>0.0</td>\n",
       "      <td>USD</td>\n",
       "      <td>NaN</td>\n",
       "      <td>Varies with device</td>\n",
       "      <td>My Travel Friends LLC</td>\n",
       "      <td>http://mytravelfriends.com</td>\n",
       "      <td>lauriezundel@gmail.com</td>\n",
       "      <td>NaN</td>\n",
       "      <td>Nov 07, 2019</td>\n",
       "      <td>Everyone</td>\n",
       "      <td>http://mytravelfriends.com/privacy-policy</td>\n",
       "      <td>False</td>\n",
       "      <td>False</td>\n",
       "      <td>False</td>\n",
       "      <td>2021-06-15 20:56:23</td>\n",
       "    </tr>\n",
       "    <tr>\n",
       "      <th>60487</th>\n",
       "      <td>Style Salon Premium App ( for demo purpose)</td>\n",
       "      <td>com.gobony.premium.app</td>\n",
       "      <td>Beauty</td>\n",
       "      <td>NaN</td>\n",
       "      <td>NaN</td>\n",
       "      <td>5+</td>\n",
       "      <td>5.0</td>\n",
       "      <td>5</td>\n",
       "      <td>True</td>\n",
       "      <td>0.0</td>\n",
       "      <td>USD</td>\n",
       "      <td>NaN</td>\n",
       "      <td>Varies with device</td>\n",
       "      <td>GoBony</td>\n",
       "      <td>https://www.gobony.in/</td>\n",
       "      <td>support@gobony.in</td>\n",
       "      <td>NaN</td>\n",
       "      <td>Aug 19, 2020</td>\n",
       "      <td>Everyone</td>\n",
       "      <td>https://www.gobony.in/privacy-policy</td>\n",
       "      <td>False</td>\n",
       "      <td>False</td>\n",
       "      <td>False</td>\n",
       "      <td>2021-06-15 21:19:36</td>\n",
       "    </tr>\n",
       "    <tr>\n",
       "      <th>82844</th>\n",
       "      <td>Rolling Muse</td>\n",
       "      <td>com.rollingmuse</td>\n",
       "      <td>Music &amp; Audio</td>\n",
       "      <td>NaN</td>\n",
       "      <td>NaN</td>\n",
       "      <td>50+</td>\n",
       "      <td>50.0</td>\n",
       "      <td>59</td>\n",
       "      <td>True</td>\n",
       "      <td>0.0</td>\n",
       "      <td>USD</td>\n",
       "      <td>NaN</td>\n",
       "      <td>Varies with device</td>\n",
       "      <td>Sasha Stoikov</td>\n",
       "      <td>http://www.rollingmuse.com</td>\n",
       "      <td>sashastoikov@gmail.com</td>\n",
       "      <td>NaN</td>\n",
       "      <td>Jun 05, 2018</td>\n",
       "      <td>Everyone</td>\n",
       "      <td>https://www.rollingmuse.com/static/app/privacy...</td>\n",
       "      <td>False</td>\n",
       "      <td>False</td>\n",
       "      <td>False</td>\n",
       "      <td>2021-06-15 21:41:25</td>\n",
       "    </tr>\n",
       "    <tr>\n",
       "      <th>83346</th>\n",
       "      <td>ArabiConnect Token</td>\n",
       "      <td>com.arabbanksofttoken</td>\n",
       "      <td>Finance</td>\n",
       "      <td>NaN</td>\n",
       "      <td>NaN</td>\n",
       "      <td>5+</td>\n",
       "      <td>5.0</td>\n",
       "      <td>5</td>\n",
       "      <td>True</td>\n",
       "      <td>0.0</td>\n",
       "      <td>USD</td>\n",
       "      <td>NaN</td>\n",
       "      <td>Varies with device</td>\n",
       "      <td>Arab Bank Plc.</td>\n",
       "      <td>not present</td>\n",
       "      <td>rami.jibreel@arabbank.com.jo</td>\n",
       "      <td>NaN</td>\n",
       "      <td>Oct 28, 2020</td>\n",
       "      <td>Everyone</td>\n",
       "      <td>http://www.arabbank.com</td>\n",
       "      <td>False</td>\n",
       "      <td>False</td>\n",
       "      <td>False</td>\n",
       "      <td>2021-06-15 21:41:53</td>\n",
       "    </tr>\n",
       "    <tr>\n",
       "      <th>100136</th>\n",
       "      <td>Backyard Bash: New Match 3 Pet Game</td>\n",
       "      <td>com.bigfishgames.backyardbashgoog</td>\n",
       "      <td>Casual</td>\n",
       "      <td>NaN</td>\n",
       "      <td>NaN</td>\n",
       "      <td>100,000+</td>\n",
       "      <td>100000.0</td>\n",
       "      <td>133062</td>\n",
       "      <td>True</td>\n",
       "      <td>0.0</td>\n",
       "      <td>USD</td>\n",
       "      <td>NaN</td>\n",
       "      <td>Varies with device</td>\n",
       "      <td>Big Fish Games</td>\n",
       "      <td>http://www.bigfishgames.com</td>\n",
       "      <td>info@bigfishgames.com</td>\n",
       "      <td>NaN</td>\n",
       "      <td>Aug 14, 2019</td>\n",
       "      <td>Everyone</td>\n",
       "      <td>https://www.bigfishgames.com/company/privacy.html</td>\n",
       "      <td>True</td>\n",
       "      <td>False</td>\n",
       "      <td>False</td>\n",
       "      <td>2021-06-15 21:58:30</td>\n",
       "    </tr>\n",
       "  </tbody>\n",
       "</table>\n",
       "</div>"
      ],
      "text/plain": [
       "                                                 App Name  \\\n",
       "37031   Change The World Together: My Travel Friends V...   \n",
       "60487         Style Salon Premium App ( for demo purpose)   \n",
       "82844                                        Rolling Muse   \n",
       "83346                                  ArabiConnect Token   \n",
       "100136                Backyard Bash: New Match 3 Pet Game   \n",
       "\n",
       "                                            App Id       Category  Rating  \\\n",
       "37031   com.mytravelfriends.changetheworldtogether      Education     NaN   \n",
       "60487                       com.gobony.premium.app         Beauty     NaN   \n",
       "82844                              com.rollingmuse  Music & Audio     NaN   \n",
       "83346                        com.arabbanksofttoken        Finance     NaN   \n",
       "100136           com.bigfishgames.backyardbashgoog         Casual     NaN   \n",
       "\n",
       "        Rating Count  Installs  Minimum Installs  Maximum Installs  Free  \\\n",
       "37031            NaN        1+               1.0                 3  True   \n",
       "60487            NaN        5+               5.0                 5  True   \n",
       "82844            NaN       50+              50.0                59  True   \n",
       "83346            NaN        5+               5.0                 5  True   \n",
       "100136           NaN  100,000+          100000.0            133062  True   \n",
       "\n",
       "        Price Currency Size     Minimum Android           Developer Id  \\\n",
       "37031     0.0      USD  NaN  Varies with device  My Travel Friends LLC   \n",
       "60487     0.0      USD  NaN  Varies with device                 GoBony   \n",
       "82844     0.0      USD  NaN  Varies with device          Sasha Stoikov   \n",
       "83346     0.0      USD  NaN  Varies with device         Arab Bank Plc.   \n",
       "100136    0.0      USD  NaN  Varies with device         Big Fish Games   \n",
       "\n",
       "                  Developer Website               Developer Email Released  \\\n",
       "37031    http://mytravelfriends.com        lauriezundel@gmail.com      NaN   \n",
       "60487        https://www.gobony.in/             support@gobony.in      NaN   \n",
       "82844    http://www.rollingmuse.com        sashastoikov@gmail.com      NaN   \n",
       "83346                   not present  rami.jibreel@arabbank.com.jo      NaN   \n",
       "100136  http://www.bigfishgames.com         info@bigfishgames.com      NaN   \n",
       "\n",
       "        Last Updated Content Rating  \\\n",
       "37031   Nov 07, 2019       Everyone   \n",
       "60487   Aug 19, 2020       Everyone   \n",
       "82844   Jun 05, 2018       Everyone   \n",
       "83346   Oct 28, 2020       Everyone   \n",
       "100136  Aug 14, 2019       Everyone   \n",
       "\n",
       "                                           Privacy Policy  Ad Supported  \\\n",
       "37031           http://mytravelfriends.com/privacy-policy         False   \n",
       "60487                https://www.gobony.in/privacy-policy         False   \n",
       "82844   https://www.rollingmuse.com/static/app/privacy...         False   \n",
       "83346                             http://www.arabbank.com         False   \n",
       "100136  https://www.bigfishgames.com/company/privacy.html          True   \n",
       "\n",
       "        In App Purchases  Editors Choice         Scraped Time  \n",
       "37031              False           False  2021-06-15 20:56:23  \n",
       "60487              False           False  2021-06-15 21:19:36  \n",
       "82844              False           False  2021-06-15 21:41:25  \n",
       "83346              False           False  2021-06-15 21:41:53  \n",
       "100136             False           False  2021-06-15 21:58:30  "
      ]
     },
     "execution_count": 78,
     "metadata": {},
     "output_type": "execute_result"
    }
   ],
   "source": [
    "df[df[\"Size\"].isnull()].head()"
   ]
  },
  {
   "cell_type": "code",
   "execution_count": 79,
   "metadata": {},
   "outputs": [
    {
     "name": "stdout",
     "output_type": "stream",
     "text": [
      "Total missing values in size are: 196\n",
      "Total number of values having missing values and varies with devices both, is: 196\n"
     ]
    }
   ],
   "source": [
    "print(f\"Total missing values in size are: {len(df[df['Size'].isnull()])}\")\n",
    "print(f\"Total number of values having missing values and varies with devices both, is: {len(df[(df['Size'].isnull()) & (df['Minimum Android']=='Varies with device')])}\")"
   ]
  },
  {
   "cell_type": "code",
   "execution_count": 80,
   "metadata": {},
   "outputs": [
    {
     "data": {
      "text/html": [
       "<div>\n",
       "<style scoped>\n",
       "    .dataframe tbody tr th:only-of-type {\n",
       "        vertical-align: middle;\n",
       "    }\n",
       "\n",
       "    .dataframe tbody tr th {\n",
       "        vertical-align: top;\n",
       "    }\n",
       "\n",
       "    .dataframe thead th {\n",
       "        text-align: right;\n",
       "    }\n",
       "</style>\n",
       "<table border=\"1\" class=\"dataframe\">\n",
       "  <thead>\n",
       "    <tr style=\"text-align: right;\">\n",
       "      <th></th>\n",
       "      <th>App Name</th>\n",
       "      <th>App Id</th>\n",
       "      <th>Category</th>\n",
       "      <th>Rating</th>\n",
       "      <th>Rating Count</th>\n",
       "      <th>Installs</th>\n",
       "      <th>Minimum Installs</th>\n",
       "      <th>Maximum Installs</th>\n",
       "      <th>Free</th>\n",
       "      <th>Price</th>\n",
       "      <th>Currency</th>\n",
       "      <th>Size</th>\n",
       "      <th>Minimum Android</th>\n",
       "      <th>Developer Id</th>\n",
       "      <th>Developer Website</th>\n",
       "      <th>Developer Email</th>\n",
       "      <th>Released</th>\n",
       "      <th>Last Updated</th>\n",
       "      <th>Content Rating</th>\n",
       "      <th>Privacy Policy</th>\n",
       "      <th>Ad Supported</th>\n",
       "      <th>In App Purchases</th>\n",
       "      <th>Editors Choice</th>\n",
       "      <th>Scraped Time</th>\n",
       "    </tr>\n",
       "  </thead>\n",
       "  <tbody>\n",
       "    <tr>\n",
       "      <th>115</th>\n",
       "      <td>VM-Delay</td>\n",
       "      <td>com.irv.vm_delay</td>\n",
       "      <td>Tools</td>\n",
       "      <td>NaN</td>\n",
       "      <td>NaN</td>\n",
       "      <td>50+</td>\n",
       "      <td>50.0</td>\n",
       "      <td>71</td>\n",
       "      <td>True</td>\n",
       "      <td>0.0</td>\n",
       "      <td>USD</td>\n",
       "      <td>Varies with device</td>\n",
       "      <td>Varies with device</td>\n",
       "      <td>IVR.RD</td>\n",
       "      <td>not present</td>\n",
       "      <td>iv_dx@mail.com</td>\n",
       "      <td>NaN</td>\n",
       "      <td>Oct 23, 2018</td>\n",
       "      <td>Everyone</td>\n",
       "      <td>not present</td>\n",
       "      <td>False</td>\n",
       "      <td>False</td>\n",
       "      <td>False</td>\n",
       "      <td>2021-06-15 20:19:42</td>\n",
       "    </tr>\n",
       "    <tr>\n",
       "      <th>180</th>\n",
       "      <td>Shop 13</td>\n",
       "      <td>com.shop1313</td>\n",
       "      <td>Shopping</td>\n",
       "      <td>4.3</td>\n",
       "      <td>18.0</td>\n",
       "      <td>1,000+</td>\n",
       "      <td>1000.0</td>\n",
       "      <td>2340</td>\n",
       "      <td>True</td>\n",
       "      <td>0.0</td>\n",
       "      <td>USD</td>\n",
       "      <td>Varies with device</td>\n",
       "      <td>Varies with device</td>\n",
       "      <td>Sahar Alizadehetemadi</td>\n",
       "      <td>http://131313.ir/</td>\n",
       "      <td>info@131313.ir</td>\n",
       "      <td>Jul 10, 2019</td>\n",
       "      <td>Jun 04, 2021</td>\n",
       "      <td>Everyone</td>\n",
       "      <td>http://131313.ir/policies/</td>\n",
       "      <td>False</td>\n",
       "      <td>False</td>\n",
       "      <td>False</td>\n",
       "      <td>2021-06-15 20:19:46</td>\n",
       "    </tr>\n",
       "    <tr>\n",
       "      <th>210</th>\n",
       "      <td>Promotor</td>\n",
       "      <td>com.touchesbegan.promotor</td>\n",
       "      <td>Productivity</td>\n",
       "      <td>NaN</td>\n",
       "      <td>NaN</td>\n",
       "      <td>100+</td>\n",
       "      <td>100.0</td>\n",
       "      <td>135</td>\n",
       "      <td>True</td>\n",
       "      <td>0.0</td>\n",
       "      <td>USD</td>\n",
       "      <td>Varies with device</td>\n",
       "      <td>Varies with device</td>\n",
       "      <td>TouchesBegan</td>\n",
       "      <td>http://www.touchesbegan.com</td>\n",
       "      <td>info@touchesbegan.com</td>\n",
       "      <td>NaN</td>\n",
       "      <td>Aug 14, 2017</td>\n",
       "      <td>Everyone</td>\n",
       "      <td>not present</td>\n",
       "      <td>False</td>\n",
       "      <td>False</td>\n",
       "      <td>False</td>\n",
       "      <td>2021-06-15 20:19:48</td>\n",
       "    </tr>\n",
       "    <tr>\n",
       "      <th>284</th>\n",
       "      <td>xrsta xatr</td>\n",
       "      <td>com.xrsta.xatr</td>\n",
       "      <td>Entertainment</td>\n",
       "      <td>NaN</td>\n",
       "      <td>NaN</td>\n",
       "      <td>10+</td>\n",
       "      <td>10.0</td>\n",
       "      <td>14</td>\n",
       "      <td>True</td>\n",
       "      <td>0.0</td>\n",
       "      <td>USD</td>\n",
       "      <td>Varies with device</td>\n",
       "      <td>Varies with device</td>\n",
       "      <td>fremme_gamez</td>\n",
       "      <td>not present</td>\n",
       "      <td>fremmepen@gmail.com</td>\n",
       "      <td>NaN</td>\n",
       "      <td>Feb 08, 2020</td>\n",
       "      <td>Mature 17+</td>\n",
       "      <td>not present</td>\n",
       "      <td>False</td>\n",
       "      <td>False</td>\n",
       "      <td>False</td>\n",
       "      <td>2021-06-15 20:19:52</td>\n",
       "    </tr>\n",
       "    <tr>\n",
       "      <th>286</th>\n",
       "      <td>Goodfellas</td>\n",
       "      <td>com.sapanbhuta.goodfellas</td>\n",
       "      <td>Lifestyle</td>\n",
       "      <td>4.0</td>\n",
       "      <td>8.0</td>\n",
       "      <td>1,000+</td>\n",
       "      <td>1000.0</td>\n",
       "      <td>1628</td>\n",
       "      <td>True</td>\n",
       "      <td>0.0</td>\n",
       "      <td>USD</td>\n",
       "      <td>Varies with device</td>\n",
       "      <td>Varies with device</td>\n",
       "      <td>Goodfellas Pizzeria</td>\n",
       "      <td>http://www.goodfellaspizzeria.com</td>\n",
       "      <td>goodfellaspizzeria@gmail.com</td>\n",
       "      <td>Oct 8, 2015</td>\n",
       "      <td>Jul 09, 2019</td>\n",
       "      <td>Teen</td>\n",
       "      <td>https://www.goodfellaspizzeria.com/privacypolicy</td>\n",
       "      <td>False</td>\n",
       "      <td>False</td>\n",
       "      <td>False</td>\n",
       "      <td>2021-06-15 20:19:53</td>\n",
       "    </tr>\n",
       "  </tbody>\n",
       "</table>\n",
       "</div>"
      ],
      "text/plain": [
       "       App Name                     App Id       Category  Rating  \\\n",
       "115    VM-Delay           com.irv.vm_delay          Tools     NaN   \n",
       "180     Shop 13               com.shop1313       Shopping     4.3   \n",
       "210    Promotor  com.touchesbegan.promotor   Productivity     NaN   \n",
       "284  xrsta xatr             com.xrsta.xatr  Entertainment     NaN   \n",
       "286  Goodfellas  com.sapanbhuta.goodfellas      Lifestyle     4.0   \n",
       "\n",
       "     Rating Count Installs  Minimum Installs  Maximum Installs  Free  Price  \\\n",
       "115           NaN      50+              50.0                71  True    0.0   \n",
       "180          18.0   1,000+            1000.0              2340  True    0.0   \n",
       "210           NaN     100+             100.0               135  True    0.0   \n",
       "284           NaN      10+              10.0                14  True    0.0   \n",
       "286           8.0   1,000+            1000.0              1628  True    0.0   \n",
       "\n",
       "    Currency                Size     Minimum Android           Developer Id  \\\n",
       "115      USD  Varies with device  Varies with device                 IVR.RD   \n",
       "180      USD  Varies with device  Varies with device  Sahar Alizadehetemadi   \n",
       "210      USD  Varies with device  Varies with device           TouchesBegan   \n",
       "284      USD  Varies with device  Varies with device           fremme_gamez   \n",
       "286      USD  Varies with device  Varies with device    Goodfellas Pizzeria   \n",
       "\n",
       "                     Developer Website               Developer Email  \\\n",
       "115                        not present                iv_dx@mail.com   \n",
       "180                  http://131313.ir/                info@131313.ir   \n",
       "210        http://www.touchesbegan.com         info@touchesbegan.com   \n",
       "284                        not present           fremmepen@gmail.com   \n",
       "286  http://www.goodfellaspizzeria.com  goodfellaspizzeria@gmail.com   \n",
       "\n",
       "         Released  Last Updated Content Rating  \\\n",
       "115           NaN  Oct 23, 2018       Everyone   \n",
       "180  Jul 10, 2019  Jun 04, 2021       Everyone   \n",
       "210           NaN  Aug 14, 2017       Everyone   \n",
       "284           NaN  Feb 08, 2020     Mature 17+   \n",
       "286   Oct 8, 2015  Jul 09, 2019           Teen   \n",
       "\n",
       "                                       Privacy Policy  Ad Supported  \\\n",
       "115                                       not present         False   \n",
       "180                        http://131313.ir/policies/         False   \n",
       "210                                       not present         False   \n",
       "284                                       not present         False   \n",
       "286  https://www.goodfellaspizzeria.com/privacypolicy         False   \n",
       "\n",
       "     In App Purchases  Editors Choice         Scraped Time  \n",
       "115             False           False  2021-06-15 20:19:42  \n",
       "180             False           False  2021-06-15 20:19:46  \n",
       "210             False           False  2021-06-15 20:19:48  \n",
       "284             False           False  2021-06-15 20:19:52  \n",
       "286             False           False  2021-06-15 20:19:53  "
      ]
     },
     "execution_count": 80,
     "metadata": {},
     "output_type": "execute_result"
    }
   ],
   "source": [
    "df[df[\"Minimum Android\"]==\"Varies with device\"].head()"
   ]
  },
  {
   "cell_type": "markdown",
   "metadata": {},
   "source": [
    "- As we can see that **Size** have relation with **minimum android** and on all the null **size** points **minimum android** have \"Varies with devices\".\n",
    "- In second snippet of code we can see that in case of \"varies with device\" in **minimum android**, \"varies with devices\" is also present in **size** .\n",
    "- We can fill nulls of **Size** with \"Varies with device\"."
   ]
  },
  {
   "cell_type": "code",
   "execution_count": 81,
   "metadata": {},
   "outputs": [],
   "source": [
    "df[\"Size\"]=df[\"Size\"].fillna(value=\"Varies with device\")"
   ]
  },
  {
   "cell_type": "markdown",
   "metadata": {},
   "source": [
    "**Currency**"
   ]
  },
  {
   "cell_type": "code",
   "execution_count": 82,
   "metadata": {},
   "outputs": [
    {
     "data": {
      "text/plain": [
       "array(['USD', 'XXX', 'CAD', 'EUR', 'INR', nan, 'VND', 'GBP', 'BRL', 'KRW',\n",
       "       'TRY', 'RUB', 'SGD', 'AUD', 'PKR', 'ZAR'], dtype=object)"
      ]
     },
     "execution_count": 82,
     "metadata": {},
     "output_type": "execute_result"
    }
   ],
   "source": [
    "df[\"Currency\"].unique()"
   ]
  },
  {
   "cell_type": "code",
   "execution_count": 83,
   "metadata": {},
   "outputs": [
    {
     "name": "stdout",
     "output_type": "stream",
     "text": [
      "Total missing values in Currency are: 135\n",
      "Total number of datapoints having missing values and price 0.0 both, is: 135\n"
     ]
    }
   ],
   "source": [
    "print(f\"Total missing values in Currency are: {len(df[df['Currency'].isnull()])}\")\n",
    "print(f\"Total number of datapoints having missing values and price 0.0 both, is: {len(df[(df['Currency'].isnull()) & (df['Price']==0.0)])}\")"
   ]
  },
  {
   "cell_type": "markdown",
   "metadata": {},
   "source": [
    "- We can see that all the nulls in currency have 0 price, hence we can impute currency with XXX."
   ]
  },
  {
   "cell_type": "code",
   "execution_count": 84,
   "metadata": {},
   "outputs": [
    {
     "data": {
      "text/plain": [
       "0"
      ]
     },
     "execution_count": 84,
     "metadata": {},
     "output_type": "execute_result"
    }
   ],
   "source": [
    "df[\"Currency\"]=df[\"Currency\"].fillna(value=\"XXX\")\n",
    "# now let's check:\n",
    "df[\"Currency\"].isnull().sum()"
   ]
  },
  {
   "cell_type": "markdown",
   "metadata": {},
   "source": [
    "**Installs, Minimum Installs,rating and rating count**"
   ]
  },
  {
   "cell_type": "markdown",
   "metadata": {},
   "source": [
    "- As missing percentage is very small in them and each two rows have missing on similar rows, hence we can drop these null values by dropping from every second."
   ]
  },
  {
   "cell_type": "code",
   "execution_count": 85,
   "metadata": {},
   "outputs": [
    {
     "data": {
      "text/plain": [
       "Installs    0\n",
       "Rating      0\n",
       "dtype: int64"
      ]
     },
     "execution_count": 85,
     "metadata": {},
     "output_type": "execute_result"
    }
   ],
   "source": [
    "df=df.dropna(subset=[\"Installs\"])\n",
    "df=df.dropna(subset=[\"Rating\"])\n",
    "# let's check \n",
    "df[[\"Installs\",\"Rating\"]].isnull().sum()"
   ]
  },
  {
   "cell_type": "markdown",
   "metadata": {},
   "source": [
    "**Released**"
   ]
  },
  {
   "cell_type": "markdown",
   "metadata": {},
   "source": [
    "- We can predict released from last updated date, but it can manipulate some data because famous apps are updated a lot.\n",
    "- Hence we decided to drop the null values."
   ]
  },
  {
   "cell_type": "code",
   "execution_count": 86,
   "metadata": {},
   "outputs": [
    {
     "data": {
      "text/plain": [
       "0"
      ]
     },
     "execution_count": 86,
     "metadata": {},
     "output_type": "execute_result"
    }
   ],
   "source": [
    "df=df.dropna(subset=[\"Released\"])\n",
    "# let's check \n",
    "df[\"Released\"].isnull().sum()"
   ]
  },
  {
   "cell_type": "code",
   "execution_count": 87,
   "metadata": {},
   "outputs": [
    {
     "data": {
      "text/plain": [
       "App Name             0\n",
       "App Id               0\n",
       "Editors Choice       0\n",
       "In App Purchases     0\n",
       "Ad Supported         0\n",
       "Privacy Policy       0\n",
       "Content Rating       0\n",
       "Last Updated         0\n",
       "Released             0\n",
       "Developer Email      0\n",
       "Developer Website    0\n",
       "Developer Id         0\n",
       "Minimum Android      0\n",
       "Size                 0\n",
       "Currency             0\n",
       "Price                0\n",
       "Free                 0\n",
       "Maximum Installs     0\n",
       "Minimum Installs     0\n",
       "Installs             0\n",
       "Rating Count         0\n",
       "Rating               0\n",
       "Category             0\n",
       "Scraped Time         0\n",
       "dtype: int64"
      ]
     },
     "execution_count": 87,
     "metadata": {},
     "output_type": "execute_result"
    }
   ],
   "source": [
    "df.isnull().sum().sort_values(ascending=False)"
   ]
  },
  {
   "cell_type": "markdown",
   "metadata": {},
   "source": [
    "**Milestone 1:** We have cleaned the dataset from null values."
   ]
  },
  {
   "cell_type": "markdown",
   "metadata": {},
   "source": [
    "### 4.8 Duplicates"
   ]
  },
  {
   "cell_type": "code",
   "execution_count": 88,
   "metadata": {},
   "outputs": [
    {
     "data": {
      "text/plain": [
       "False"
      ]
     },
     "execution_count": 88,
     "metadata": {},
     "output_type": "execute_result"
    }
   ],
   "source": [
    "df.duplicated().any()"
   ]
  },
  {
   "cell_type": "code",
   "execution_count": 89,
   "metadata": {},
   "outputs": [
    {
     "data": {
      "text/plain": [
       "True"
      ]
     },
     "execution_count": 89,
     "metadata": {},
     "output_type": "execute_result"
    }
   ],
   "source": [
    "df[\"App Name\"].duplicated().any()"
   ]
  },
  {
   "cell_type": "code",
   "execution_count": 90,
   "metadata": {},
   "outputs": [
    {
     "data": {
      "text/plain": [
       "App Name\n",
       "Tic Tac Toe       381\n",
       "Calculator        259\n",
       "Flashlight        254\n",
       "BMI Calculator    198\n",
       "Age Calculator    190\n",
       "Name: count, dtype: int64"
      ]
     },
     "execution_count": 90,
     "metadata": {},
     "output_type": "execute_result"
    }
   ],
   "source": [
    "df[\"App Name\"].value_counts().sort_values(ascending=False).head()"
   ]
  },
  {
   "cell_type": "code",
   "execution_count": 91,
   "metadata": {},
   "outputs": [
    {
     "data": {
      "text/html": [
       "<div>\n",
       "<style scoped>\n",
       "    .dataframe tbody tr th:only-of-type {\n",
       "        vertical-align: middle;\n",
       "    }\n",
       "\n",
       "    .dataframe tbody tr th {\n",
       "        vertical-align: top;\n",
       "    }\n",
       "\n",
       "    .dataframe thead th {\n",
       "        text-align: right;\n",
       "    }\n",
       "</style>\n",
       "<table border=\"1\" class=\"dataframe\">\n",
       "  <thead>\n",
       "    <tr style=\"text-align: right;\">\n",
       "      <th></th>\n",
       "      <th>App Name</th>\n",
       "      <th>App Id</th>\n",
       "      <th>Category</th>\n",
       "      <th>Rating</th>\n",
       "      <th>Rating Count</th>\n",
       "      <th>Installs</th>\n",
       "      <th>Minimum Installs</th>\n",
       "      <th>Maximum Installs</th>\n",
       "      <th>Free</th>\n",
       "      <th>Price</th>\n",
       "      <th>Currency</th>\n",
       "      <th>Size</th>\n",
       "      <th>Minimum Android</th>\n",
       "      <th>Developer Id</th>\n",
       "      <th>Developer Website</th>\n",
       "      <th>Developer Email</th>\n",
       "      <th>Released</th>\n",
       "      <th>Last Updated</th>\n",
       "      <th>Content Rating</th>\n",
       "      <th>Privacy Policy</th>\n",
       "      <th>Ad Supported</th>\n",
       "      <th>In App Purchases</th>\n",
       "      <th>Editors Choice</th>\n",
       "      <th>Scraped Time</th>\n",
       "    </tr>\n",
       "  </thead>\n",
       "  <tbody>\n",
       "    <tr>\n",
       "      <th>3918</th>\n",
       "      <td>Tic Tac Toe</td>\n",
       "      <td>com.dev.atte.tic_tac_toe</td>\n",
       "      <td>Puzzle</td>\n",
       "      <td>0.0</td>\n",
       "      <td>0.0</td>\n",
       "      <td>10+</td>\n",
       "      <td>10.0</td>\n",
       "      <td>30</td>\n",
       "      <td>True</td>\n",
       "      <td>0.0</td>\n",
       "      <td>USD</td>\n",
       "      <td>3.4M</td>\n",
       "      <td>4.0 and up</td>\n",
       "      <td>ATTE AKA FRANCOIS</td>\n",
       "      <td>https://ne2ad32ee.app-ads-txt.com</td>\n",
       "      <td>dev.atte.francois@gmail.com</td>\n",
       "      <td>May 18, 2018</td>\n",
       "      <td>May 18, 2018</td>\n",
       "      <td>Everyone</td>\n",
       "      <td>not present</td>\n",
       "      <td>True</td>\n",
       "      <td>False</td>\n",
       "      <td>False</td>\n",
       "      <td>2021-06-15 20:23:22</td>\n",
       "    </tr>\n",
       "    <tr>\n",
       "      <th>13758</th>\n",
       "      <td>Tic Tac Toe</td>\n",
       "      <td>com.md.tictactoe</td>\n",
       "      <td>Board</td>\n",
       "      <td>0.0</td>\n",
       "      <td>0.0</td>\n",
       "      <td>10+</td>\n",
       "      <td>10.0</td>\n",
       "      <td>31</td>\n",
       "      <td>True</td>\n",
       "      <td>0.0</td>\n",
       "      <td>USD</td>\n",
       "      <td>34M</td>\n",
       "      <td>4.3 and up</td>\n",
       "      <td>Smart Digital Tools</td>\n",
       "      <td>not present</td>\n",
       "      <td>msms.zaman@gmail.com</td>\n",
       "      <td>Nov 2, 2020</td>\n",
       "      <td>Nov 18, 2020</td>\n",
       "      <td>Everyone</td>\n",
       "      <td>https://smartdailytools.blogspot.com/2020/09/p...</td>\n",
       "      <td>True</td>\n",
       "      <td>False</td>\n",
       "      <td>False</td>\n",
       "      <td>2021-06-15 20:32:58</td>\n",
       "    </tr>\n",
       "    <tr>\n",
       "      <th>25351</th>\n",
       "      <td>Tic Tac Toe</td>\n",
       "      <td>com.sthirumuru.tictactoenew</td>\n",
       "      <td>Board</td>\n",
       "      <td>4.2</td>\n",
       "      <td>11.0</td>\n",
       "      <td>5,000+</td>\n",
       "      <td>5000.0</td>\n",
       "      <td>6379</td>\n",
       "      <td>True</td>\n",
       "      <td>0.0</td>\n",
       "      <td>USD</td>\n",
       "      <td>7.4M</td>\n",
       "      <td>7.0 and up</td>\n",
       "      <td>Sundeep Reddy Thirumuru</td>\n",
       "      <td>not present</td>\n",
       "      <td>sundeep.thirumuru@gmail.com</td>\n",
       "      <td>Apr 13, 2021</td>\n",
       "      <td>Jun 03, 2021</td>\n",
       "      <td>Everyone</td>\n",
       "      <td>not present</td>\n",
       "      <td>True</td>\n",
       "      <td>False</td>\n",
       "      <td>False</td>\n",
       "      <td>2021-06-15 20:44:27</td>\n",
       "    </tr>\n",
       "    <tr>\n",
       "      <th>28142</th>\n",
       "      <td>Tic Tac Toe</td>\n",
       "      <td>com.fsk00x.TicTacToe</td>\n",
       "      <td>Board</td>\n",
       "      <td>0.0</td>\n",
       "      <td>0.0</td>\n",
       "      <td>500+</td>\n",
       "      <td>500.0</td>\n",
       "      <td>922</td>\n",
       "      <td>True</td>\n",
       "      <td>0.0</td>\n",
       "      <td>USD</td>\n",
       "      <td>8.6M</td>\n",
       "      <td>4.1 and up</td>\n",
       "      <td>SteadFast Games</td>\n",
       "      <td>not present</td>\n",
       "      <td>devmethyl@outlook.com</td>\n",
       "      <td>Feb 13, 2020</td>\n",
       "      <td>Feb 13, 2020</td>\n",
       "      <td>Everyone</td>\n",
       "      <td>not present</td>\n",
       "      <td>True</td>\n",
       "      <td>False</td>\n",
       "      <td>False</td>\n",
       "      <td>2021-06-15 20:47:17</td>\n",
       "    </tr>\n",
       "    <tr>\n",
       "      <th>30962</th>\n",
       "      <td>Tic Tac Toe</td>\n",
       "      <td>net.snatchdreams.tictactoe</td>\n",
       "      <td>Puzzle</td>\n",
       "      <td>0.0</td>\n",
       "      <td>0.0</td>\n",
       "      <td>10+</td>\n",
       "      <td>10.0</td>\n",
       "      <td>38</td>\n",
       "      <td>True</td>\n",
       "      <td>0.0</td>\n",
       "      <td>USD</td>\n",
       "      <td>927k</td>\n",
       "      <td>4.0 and up</td>\n",
       "      <td>SnatchDreams</td>\n",
       "      <td>https://www.snatchdreams.net</td>\n",
       "      <td>snatchdreams@gmail.com</td>\n",
       "      <td>Jul 16, 2017</td>\n",
       "      <td>Oct 16, 2019</td>\n",
       "      <td>Everyone</td>\n",
       "      <td>https://www.snatchdreams.net/privacy/tic-tac-toe/</td>\n",
       "      <td>True</td>\n",
       "      <td>False</td>\n",
       "      <td>False</td>\n",
       "      <td>2021-06-15 20:50:12</td>\n",
       "    </tr>\n",
       "  </tbody>\n",
       "</table>\n",
       "</div>"
      ],
      "text/plain": [
       "          App Name                       App Id Category  Rating  \\\n",
       "3918   Tic Tac Toe     com.dev.atte.tic_tac_toe   Puzzle     0.0   \n",
       "13758  Tic Tac Toe             com.md.tictactoe    Board     0.0   \n",
       "25351  Tic Tac Toe  com.sthirumuru.tictactoenew    Board     4.2   \n",
       "28142  Tic Tac Toe         com.fsk00x.TicTacToe    Board     0.0   \n",
       "30962  Tic Tac Toe   net.snatchdreams.tictactoe   Puzzle     0.0   \n",
       "\n",
       "       Rating Count Installs  Minimum Installs  Maximum Installs  Free  Price  \\\n",
       "3918            0.0      10+              10.0                30  True    0.0   \n",
       "13758           0.0      10+              10.0                31  True    0.0   \n",
       "25351          11.0   5,000+            5000.0              6379  True    0.0   \n",
       "28142           0.0     500+             500.0               922  True    0.0   \n",
       "30962           0.0      10+              10.0                38  True    0.0   \n",
       "\n",
       "      Currency  Size Minimum Android             Developer Id  \\\n",
       "3918       USD  3.4M      4.0 and up        ATTE AKA FRANCOIS   \n",
       "13758      USD   34M      4.3 and up      Smart Digital Tools   \n",
       "25351      USD  7.4M      7.0 and up  Sundeep Reddy Thirumuru   \n",
       "28142      USD  8.6M      4.1 and up          SteadFast Games   \n",
       "30962      USD  927k      4.0 and up             SnatchDreams   \n",
       "\n",
       "                       Developer Website              Developer Email  \\\n",
       "3918   https://ne2ad32ee.app-ads-txt.com  dev.atte.francois@gmail.com   \n",
       "13758                        not present         msms.zaman@gmail.com   \n",
       "25351                        not present  sundeep.thirumuru@gmail.com   \n",
       "28142                        not present        devmethyl@outlook.com   \n",
       "30962       https://www.snatchdreams.net       snatchdreams@gmail.com   \n",
       "\n",
       "           Released  Last Updated Content Rating  \\\n",
       "3918   May 18, 2018  May 18, 2018       Everyone   \n",
       "13758   Nov 2, 2020  Nov 18, 2020       Everyone   \n",
       "25351  Apr 13, 2021  Jun 03, 2021       Everyone   \n",
       "28142  Feb 13, 2020  Feb 13, 2020       Everyone   \n",
       "30962  Jul 16, 2017  Oct 16, 2019       Everyone   \n",
       "\n",
       "                                          Privacy Policy  Ad Supported  \\\n",
       "3918                                         not present          True   \n",
       "13758  https://smartdailytools.blogspot.com/2020/09/p...          True   \n",
       "25351                                        not present          True   \n",
       "28142                                        not present          True   \n",
       "30962  https://www.snatchdreams.net/privacy/tic-tac-toe/          True   \n",
       "\n",
       "       In App Purchases  Editors Choice         Scraped Time  \n",
       "3918              False           False  2021-06-15 20:23:22  \n",
       "13758             False           False  2021-06-15 20:32:58  \n",
       "25351             False           False  2021-06-15 20:44:27  \n",
       "28142             False           False  2021-06-15 20:47:17  \n",
       "30962             False           False  2021-06-15 20:50:12  "
      ]
     },
     "execution_count": 91,
     "metadata": {},
     "output_type": "execute_result"
    }
   ],
   "source": [
    "df[df[\"App Name\"]==\"Tic Tac Toe\"].head()"
   ]
  },
  {
   "cell_type": "markdown",
   "metadata": {},
   "source": [
    "**Milestone 2:** Hence no duplicates found\n",
    "- Although App_name may have duplications, the records are unique as a whole."
   ]
  },
  {
   "cell_type": "markdown",
   "metadata": {},
   "source": [
    "### 4.9 Features Engineering"
   ]
  },
  {
   "cell_type": "markdown",
   "metadata": {},
   "source": [
    "**Size**"
   ]
  },
  {
   "cell_type": "markdown",
   "metadata": {},
   "source": [
    "- Converting \"Size\" into numeric format."
   ]
  },
  {
   "cell_type": "code",
   "execution_count": 92,
   "metadata": {},
   "outputs": [
    {
     "data": {
      "text/plain": [
       "array(['10M', '2.9M', '3.7M', ..., '405M', '3.2k', '512M'], dtype=object)"
      ]
     },
     "execution_count": 92,
     "metadata": {},
     "output_type": "execute_result"
    }
   ],
   "source": [
    "# unique values in size\n",
    "df[\"Size\"].unique()"
   ]
  },
  {
   "cell_type": "code",
   "execution_count": 93,
   "metadata": {},
   "outputs": [
    {
     "name": "stdout",
     "output_type": "stream",
     "text": [
      "2235314\n",
      "2235326\n"
     ]
    }
   ],
   "source": [
    "# number of apps with size in KB.\n",
    "having_k=df[\"Size\"].str.contains(\"k\").sum() \n",
    "# number of apps with size in MB\n",
    "having_M=df[\"Size\"].str.contains(\"M\").sum()\n",
    "# number of apps with size varying wih device\n",
    "having_varies=df[\"Size\"].str.contains(\"Varies with device\").sum()\n",
    "print(having_k+having_M+having_varies)\n",
    "print(len(df[\"Size\"]))"
   ]
  },
  {
   "cell_type": "markdown",
   "metadata": {},
   "source": [
    "- It means \"Size\" not only contains just 3 types of sizes but also contains another one, we need to find that out."
   ]
  },
  {
   "cell_type": "code",
   "execution_count": 94,
   "metadata": {},
   "outputs": [
    {
     "data": {
      "text/html": [
       "<div>\n",
       "<style scoped>\n",
       "    .dataframe tbody tr th:only-of-type {\n",
       "        vertical-align: middle;\n",
       "    }\n",
       "\n",
       "    .dataframe tbody tr th {\n",
       "        vertical-align: top;\n",
       "    }\n",
       "\n",
       "    .dataframe thead th {\n",
       "        text-align: right;\n",
       "    }\n",
       "</style>\n",
       "<table border=\"1\" class=\"dataframe\">\n",
       "  <thead>\n",
       "    <tr style=\"text-align: right;\">\n",
       "      <th></th>\n",
       "      <th>App Name</th>\n",
       "      <th>App Id</th>\n",
       "      <th>Category</th>\n",
       "      <th>Rating</th>\n",
       "      <th>Rating Count</th>\n",
       "      <th>Installs</th>\n",
       "      <th>Minimum Installs</th>\n",
       "      <th>Maximum Installs</th>\n",
       "      <th>Free</th>\n",
       "      <th>Price</th>\n",
       "      <th>Currency</th>\n",
       "      <th>Size</th>\n",
       "      <th>Minimum Android</th>\n",
       "      <th>Developer Id</th>\n",
       "      <th>Developer Website</th>\n",
       "      <th>Developer Email</th>\n",
       "      <th>Released</th>\n",
       "      <th>Last Updated</th>\n",
       "      <th>Content Rating</th>\n",
       "      <th>Privacy Policy</th>\n",
       "      <th>Ad Supported</th>\n",
       "      <th>In App Purchases</th>\n",
       "      <th>Editors Choice</th>\n",
       "      <th>Scraped Time</th>\n",
       "    </tr>\n",
       "  </thead>\n",
       "  <tbody>\n",
       "    <tr>\n",
       "      <th>93175</th>\n",
       "      <td>Titan Quest: Legendary Edition</td>\n",
       "      <td>com.hg.titanquestedition</td>\n",
       "      <td>Role Playing</td>\n",
       "      <td>4.1</td>\n",
       "      <td>1387.0</td>\n",
       "      <td>5,000+</td>\n",
       "      <td>5000.0</td>\n",
       "      <td>8329</td>\n",
       "      <td>False</td>\n",
       "      <td>19.99</td>\n",
       "      <td>USD</td>\n",
       "      <td>1.5G</td>\n",
       "      <td>5.0 and up</td>\n",
       "      <td>HandyGames</td>\n",
       "      <td>https://www.handy-games.com/</td>\n",
       "      <td>support@handy-games.com</td>\n",
       "      <td>Feb 2, 2021</td>\n",
       "      <td>May 17, 2021</td>\n",
       "      <td>Teen</td>\n",
       "      <td>http://play.handygames.info/privacy/</td>\n",
       "      <td>False</td>\n",
       "      <td>False</td>\n",
       "      <td>False</td>\n",
       "      <td>2021-06-15 21:51:47</td>\n",
       "    </tr>\n",
       "    <tr>\n",
       "      <th>293625</th>\n",
       "      <td>魔力少女-元氣蘿莉寶貝水藍手遊私服,這是召喚師奇幻題材,角色扮演卡牌掛機私服遊戲.</td>\n",
       "      <td>com.mofa.moli.meishaonv</td>\n",
       "      <td>Casual</td>\n",
       "      <td>4.9</td>\n",
       "      <td>90.0</td>\n",
       "      <td>1,000+</td>\n",
       "      <td>1000.0</td>\n",
       "      <td>1602</td>\n",
       "      <td>True</td>\n",
       "      <td>0.00</td>\n",
       "      <td>USD</td>\n",
       "      <td>1.1G</td>\n",
       "      <td>4.4 and up</td>\n",
       "      <td>Legends Monk Games</td>\n",
       "      <td>not present</td>\n",
       "      <td>kefu9898@gmail.com</td>\n",
       "      <td>Feb 4, 2021</td>\n",
       "      <td>Jun 11, 2021</td>\n",
       "      <td>Everyone 10+</td>\n",
       "      <td>not present</td>\n",
       "      <td>False</td>\n",
       "      <td>True</td>\n",
       "      <td>False</td>\n",
       "      <td>2021-06-16 01:22:17</td>\n",
       "    </tr>\n",
       "    <tr>\n",
       "      <th>479954</th>\n",
       "      <td>Kỳ Nữ Hoàng Cung</td>\n",
       "      <td>vn.funtap.kynuhoangcung</td>\n",
       "      <td>Role Playing</td>\n",
       "      <td>3.8</td>\n",
       "      <td>6093.0</td>\n",
       "      <td>500,000+</td>\n",
       "      <td>500000.0</td>\n",
       "      <td>573342</td>\n",
       "      <td>True</td>\n",
       "      <td>0.00</td>\n",
       "      <td>USD</td>\n",
       "      <td>1.0G</td>\n",
       "      <td>5.0 and up</td>\n",
       "      <td>Funtap.vn</td>\n",
       "      <td>https://funtapcorp.vn/ho-tro</td>\n",
       "      <td>hotro@funtap.vn</td>\n",
       "      <td>Dec 14, 2020</td>\n",
       "      <td>Apr 30, 2021</td>\n",
       "      <td>Everyone 10+</td>\n",
       "      <td>https://funtapcorp.vn/dieu-khoan</td>\n",
       "      <td>True</td>\n",
       "      <td>False</td>\n",
       "      <td>False</td>\n",
       "      <td>2021-06-16 04:17:11</td>\n",
       "    </tr>\n",
       "  </tbody>\n",
       "</table>\n",
       "</div>"
      ],
      "text/plain": [
       "                                         App Name                    App Id  \\\n",
       "93175              Titan Quest: Legendary Edition  com.hg.titanquestedition   \n",
       "293625  魔力少女-元氣蘿莉寶貝水藍手遊私服,這是召喚師奇幻題材,角色扮演卡牌掛機私服遊戲.   com.mofa.moli.meishaonv   \n",
       "479954                           Kỳ Nữ Hoàng Cung   vn.funtap.kynuhoangcung   \n",
       "\n",
       "            Category  Rating  Rating Count  Installs  Minimum Installs  \\\n",
       "93175   Role Playing     4.1        1387.0    5,000+            5000.0   \n",
       "293625        Casual     4.9          90.0    1,000+            1000.0   \n",
       "479954  Role Playing     3.8        6093.0  500,000+          500000.0   \n",
       "\n",
       "        Maximum Installs   Free  Price Currency  Size Minimum Android  \\\n",
       "93175               8329  False  19.99      USD  1.5G      5.0 and up   \n",
       "293625              1602   True   0.00      USD  1.1G      4.4 and up   \n",
       "479954            573342   True   0.00      USD  1.0G      5.0 and up   \n",
       "\n",
       "              Developer Id             Developer Website  \\\n",
       "93175           HandyGames  https://www.handy-games.com/   \n",
       "293625  Legends Monk Games                   not present   \n",
       "479954           Funtap.vn  https://funtapcorp.vn/ho-tro   \n",
       "\n",
       "                Developer Email      Released  Last Updated Content Rating  \\\n",
       "93175   support@handy-games.com   Feb 2, 2021  May 17, 2021           Teen   \n",
       "293625       kefu9898@gmail.com   Feb 4, 2021  Jun 11, 2021   Everyone 10+   \n",
       "479954          hotro@funtap.vn  Dec 14, 2020  Apr 30, 2021   Everyone 10+   \n",
       "\n",
       "                              Privacy Policy  Ad Supported  In App Purchases  \\\n",
       "93175   http://play.handygames.info/privacy/         False             False   \n",
       "293625                           not present         False              True   \n",
       "479954      https://funtapcorp.vn/dieu-khoan          True             False   \n",
       "\n",
       "        Editors Choice         Scraped Time  \n",
       "93175            False  2021-06-15 21:51:47  \n",
       "293625           False  2021-06-16 01:22:17  \n",
       "479954           False  2021-06-16 04:17:11  "
      ]
     },
     "execution_count": 94,
     "metadata": {},
     "output_type": "execute_result"
    }
   ],
   "source": [
    "# find apps not consisting of KB, MB or varies with device\n",
    "df[(~df[\"Size\"].str.contains(\"k\"))& (~df[\"Size\"].str.contains(\"M\"))& (~df[\"Size\"].str.contains(\"Varies with device\"))].head(3)"
   ]
  },
  {
   "cell_type": "markdown",
   "metadata": {},
   "source": [
    "- That fourth type of size is \"G\"(GB)."
   ]
  },
  {
   "cell_type": "code",
   "execution_count": 95,
   "metadata": {},
   "outputs": [
    {
     "name": "stdout",
     "output_type": "stream",
     "text": [
      "2235326\n",
      "2235326\n"
     ]
    }
   ],
   "source": [
    "having_g=df[\"Size\"].str.contains(\"G\").sum()\n",
    "print(having_k+having_M+having_varies+having_g)\n",
    "print(len(df[\"Size\"]))"
   ]
  },
  {
   "cell_type": "markdown",
   "metadata": {},
   "source": [
    "- Now we will convert \"Size\" to numeric having size in MB."
   ]
  },
  {
   "cell_type": "code",
   "execution_count": 96,
   "metadata": {},
   "outputs": [],
   "source": [
    "# Apps with size less than one GB but greater than 1000 Mbs needed to be removed with commas\n",
    "df[\"Size\"]=df[\"Size\"].str.replace(\",\",\"\")"
   ]
  },
  {
   "cell_type": "code",
   "execution_count": 97,
   "metadata": {},
   "outputs": [],
   "source": [
    "# creating a new column with name size in mb\n",
    "\n",
    "#let's define a function\n",
    "def convert_size(Size):\n",
    "    if isinstance(Size, str):\n",
    "        if 'k' in Size:\n",
    "            return float(Size.replace('k',''))/1024\n",
    "        elif 'M' in Size:\n",
    "            return float(Size.replace('M',''))\n",
    "        elif 'G' in Size:\n",
    "            return float(Size.replace('G',''))*1024\n",
    "        elif 'Varies with device' in Size:\n",
    "            return np.nan\n",
    "    return Size\n",
    "df['size_in_MB']=df['Size'].apply(convert_size)"
   ]
  },
  {
   "cell_type": "markdown",
   "metadata": {},
   "source": [
    "- Here we can see that all the size values are in MB now.\n",
    "- None values represent app with unknown size, \"varies with device\" was also showing uknown size."
   ]
  },
  {
   "cell_type": "markdown",
   "metadata": {},
   "source": [
    "**Released and Last Updated**"
   ]
  },
  {
   "cell_type": "markdown",
   "metadata": {},
   "source": [
    "Converting \"Released\" and \"Last Updated\" into datetime"
   ]
  },
  {
   "cell_type": "code",
   "execution_count": 98,
   "metadata": {},
   "outputs": [
    {
     "data": {
      "text/html": [
       "<div>\n",
       "<style scoped>\n",
       "    .dataframe tbody tr th:only-of-type {\n",
       "        vertical-align: middle;\n",
       "    }\n",
       "\n",
       "    .dataframe tbody tr th {\n",
       "        vertical-align: top;\n",
       "    }\n",
       "\n",
       "    .dataframe thead th {\n",
       "        text-align: right;\n",
       "    }\n",
       "</style>\n",
       "<table border=\"1\" class=\"dataframe\">\n",
       "  <thead>\n",
       "    <tr style=\"text-align: right;\">\n",
       "      <th></th>\n",
       "      <th>Released</th>\n",
       "      <th>Last Updated</th>\n",
       "    </tr>\n",
       "  </thead>\n",
       "  <tbody>\n",
       "    <tr>\n",
       "      <th>0</th>\n",
       "      <td>Feb 26, 2020</td>\n",
       "      <td>Feb 26, 2020</td>\n",
       "    </tr>\n",
       "    <tr>\n",
       "      <th>1</th>\n",
       "      <td>May 21, 2020</td>\n",
       "      <td>May 06, 2021</td>\n",
       "    </tr>\n",
       "    <tr>\n",
       "      <th>2</th>\n",
       "      <td>Aug 9, 2019</td>\n",
       "      <td>Aug 19, 2019</td>\n",
       "    </tr>\n",
       "    <tr>\n",
       "      <th>3</th>\n",
       "      <td>Sep 10, 2018</td>\n",
       "      <td>Oct 13, 2018</td>\n",
       "    </tr>\n",
       "    <tr>\n",
       "      <th>4</th>\n",
       "      <td>Feb 21, 2020</td>\n",
       "      <td>Nov 12, 2018</td>\n",
       "    </tr>\n",
       "  </tbody>\n",
       "</table>\n",
       "</div>"
      ],
      "text/plain": [
       "       Released  Last Updated\n",
       "0  Feb 26, 2020  Feb 26, 2020\n",
       "1  May 21, 2020  May 06, 2021\n",
       "2   Aug 9, 2019  Aug 19, 2019\n",
       "3  Sep 10, 2018  Oct 13, 2018\n",
       "4  Feb 21, 2020  Nov 12, 2018"
      ]
     },
     "execution_count": 98,
     "metadata": {},
     "output_type": "execute_result"
    }
   ],
   "source": [
    "df[[\"Released\",\"Last Updated\"]].head()"
   ]
  },
  {
   "cell_type": "code",
   "execution_count": 99,
   "metadata": {},
   "outputs": [],
   "source": [
    "# converting Both columns to datetime\n",
    "df[\"Released\"]=pd.to_datetime(df[\"Released\"])\n",
    "df[\"Last Updated\"]=pd.to_datetime(df[\"Last Updated\"])"
   ]
  },
  {
   "cell_type": "markdown",
   "metadata": {},
   "source": [
    "**Scrapped Time**"
   ]
  },
  {
   "cell_type": "markdown",
   "metadata": {},
   "source": [
    "- removing \"Scraped Time\""
   ]
  },
  {
   "cell_type": "code",
   "execution_count": 100,
   "metadata": {},
   "outputs": [],
   "source": [
    "df.drop(columns=[\"Scraped Time\"],axis=1,inplace=True)"
   ]
  },
  {
   "cell_type": "code",
   "execution_count": 101,
   "metadata": {},
   "outputs": [
    {
     "name": "stdout",
     "output_type": "stream",
     "text": [
      "<class 'pandas.core.frame.DataFrame'>\n",
      "Index: 2235326 entries, 0 to 2312943\n",
      "Data columns (total 24 columns):\n",
      " #   Column             Dtype         \n",
      "---  ------             -----         \n",
      " 0   App Name           object        \n",
      " 1   App Id             object        \n",
      " 2   Category           object        \n",
      " 3   Rating             float64       \n",
      " 4   Rating Count       float64       \n",
      " 5   Installs           object        \n",
      " 6   Minimum Installs   float64       \n",
      " 7   Maximum Installs   int64         \n",
      " 8   Free               bool          \n",
      " 9   Price              float64       \n",
      " 10  Currency           object        \n",
      " 11  Size               object        \n",
      " 12  Minimum Android    object        \n",
      " 13  Developer Id       object        \n",
      " 14  Developer Website  object        \n",
      " 15  Developer Email    object        \n",
      " 16  Released           datetime64[ns]\n",
      " 17  Last Updated       datetime64[ns]\n",
      " 18  Content Rating     object        \n",
      " 19  Privacy Policy     object        \n",
      " 20  Ad Supported       bool          \n",
      " 21  In App Purchases   bool          \n",
      " 22  Editors Choice     bool          \n",
      " 23  size_in_MB         float64       \n",
      "dtypes: bool(4), datetime64[ns](2), float64(5), int64(1), object(12)\n",
      "memory usage: 366.7+ MB\n"
     ]
    }
   ],
   "source": [
    "# Let's check the dataframe again\n",
    "df.info()"
   ]
  },
  {
   "cell_type": "markdown",
   "metadata": {},
   "source": [
    "**Milestone 3:** Relavent data type assigned to all features."
   ]
  },
  {
   "cell_type": "markdown",
   "metadata": {},
   "source": [
    "<html>\n",
    "<head>\n",
    "    <style>\n",
    "        .chapter-heading {\n",
    "            background: linear-gradient(45deg, #333 25%, transparent 25%, transparent 75%, #333 75%, #333);\n",
    "            color: #4285F4;\n",
    "            padding: 10px;\n",
    "            border-radius: 5px;\n",
    "            box-shadow: 0 2px 4px rgba(0, 0, 0, 0.2);\n",
    "            text-align: center;\n",
    "            font-size: 18px;\n",
    "            font-weight: bold;\n",
    "            margin-bottom: 10px;\n",
    "        }\n",
    "    </style>\n",
    "</head>\n",
    "<body>\n",
    "    <div class=\"chapter-heading\">\n",
    "        <h1>5.0 Exploring all features</h1>\n",
    "    </div>\n",
    "</body>\n",
    "</html>"
   ]
  },
  {
   "cell_type": "markdown",
   "metadata": {},
   "source": [
    "### 5.1 Descriptive summary"
   ]
  },
  {
   "cell_type": "code",
   "execution_count": 102,
   "metadata": {},
   "outputs": [
    {
     "data": {
      "text/html": [
       "<div>\n",
       "<style scoped>\n",
       "    .dataframe tbody tr th:only-of-type {\n",
       "        vertical-align: middle;\n",
       "    }\n",
       "\n",
       "    .dataframe tbody tr th {\n",
       "        vertical-align: top;\n",
       "    }\n",
       "\n",
       "    .dataframe thead th {\n",
       "        text-align: right;\n",
       "    }\n",
       "</style>\n",
       "<table border=\"1\" class=\"dataframe\">\n",
       "  <thead>\n",
       "    <tr style=\"text-align: right;\">\n",
       "      <th></th>\n",
       "      <th>count</th>\n",
       "      <th>mean</th>\n",
       "      <th>min</th>\n",
       "      <th>25%</th>\n",
       "      <th>50%</th>\n",
       "      <th>75%</th>\n",
       "      <th>max</th>\n",
       "      <th>std</th>\n",
       "    </tr>\n",
       "  </thead>\n",
       "  <tbody>\n",
       "    <tr>\n",
       "      <th>Rating</th>\n",
       "      <td>2235326.0</td>\n",
       "      <td>2.206446</td>\n",
       "      <td>0.0</td>\n",
       "      <td>0.0</td>\n",
       "      <td>3.0</td>\n",
       "      <td>4.3</td>\n",
       "      <td>5.0</td>\n",
       "      <td>2.10836</td>\n",
       "    </tr>\n",
       "    <tr>\n",
       "      <th>Rating Count</th>\n",
       "      <td>2235326.0</td>\n",
       "      <td>2759.854709</td>\n",
       "      <td>0.0</td>\n",
       "      <td>0.0</td>\n",
       "      <td>6.0</td>\n",
       "      <td>42.0</td>\n",
       "      <td>138557570.0</td>\n",
       "      <td>198757.431682</td>\n",
       "    </tr>\n",
       "    <tr>\n",
       "      <th>Minimum Installs</th>\n",
       "      <td>2235326.0</td>\n",
       "      <td>176026.619731</td>\n",
       "      <td>0.0</td>\n",
       "      <td>50.0</td>\n",
       "      <td>500.0</td>\n",
       "      <td>5000.0</td>\n",
       "      <td>10000000000.0</td>\n",
       "      <td>14203877.2196</td>\n",
       "    </tr>\n",
       "    <tr>\n",
       "      <th>Maximum Installs</th>\n",
       "      <td>2235326.0</td>\n",
       "      <td>308113.528367</td>\n",
       "      <td>0.0</td>\n",
       "      <td>86.0</td>\n",
       "      <td>706.0</td>\n",
       "      <td>7427.0</td>\n",
       "      <td>12057627016.0</td>\n",
       "      <td>22088564.214633</td>\n",
       "    </tr>\n",
       "    <tr>\n",
       "      <th>Price</th>\n",
       "      <td>2235326.0</td>\n",
       "      <td>0.104767</td>\n",
       "      <td>0.0</td>\n",
       "      <td>0.0</td>\n",
       "      <td>0.0</td>\n",
       "      <td>0.0</td>\n",
       "      <td>400.0</td>\n",
       "      <td>2.660894</td>\n",
       "    </tr>\n",
       "    <tr>\n",
       "      <th>Released</th>\n",
       "      <td>2235326</td>\n",
       "      <td>2018-08-29 01:31:21.019591680</td>\n",
       "      <td>2010-01-28 00:00:00</td>\n",
       "      <td>2017-07-01 00:00:00</td>\n",
       "      <td>2019-03-19 00:00:00</td>\n",
       "      <td>2020-04-15 00:00:00</td>\n",
       "      <td>2021-06-16 00:00:00</td>\n",
       "      <td>NaN</td>\n",
       "    </tr>\n",
       "    <tr>\n",
       "      <th>Last Updated</th>\n",
       "      <td>2235326</td>\n",
       "      <td>2019-12-03 14:46:04.660903424</td>\n",
       "      <td>2009-02-09 00:00:00</td>\n",
       "      <td>2019-04-15 00:00:00</td>\n",
       "      <td>2020-05-14 00:00:00</td>\n",
       "      <td>2021-02-04 00:00:00</td>\n",
       "      <td>2021-06-16 00:00:00</td>\n",
       "      <td>NaN</td>\n",
       "    </tr>\n",
       "    <tr>\n",
       "      <th>size_in_MB</th>\n",
       "      <td>2184196.0</td>\n",
       "      <td>19.143454</td>\n",
       "      <td>0.003125</td>\n",
       "      <td>4.9</td>\n",
       "      <td>10.0</td>\n",
       "      <td>25.0</td>\n",
       "      <td>1536.0</td>\n",
       "      <td>23.915915</td>\n",
       "    </tr>\n",
       "  </tbody>\n",
       "</table>\n",
       "</div>"
      ],
      "text/plain": [
       "                      count                           mean  \\\n",
       "Rating            2235326.0                       2.206446   \n",
       "Rating Count      2235326.0                    2759.854709   \n",
       "Minimum Installs  2235326.0                  176026.619731   \n",
       "Maximum Installs  2235326.0                  308113.528367   \n",
       "Price             2235326.0                       0.104767   \n",
       "Released            2235326  2018-08-29 01:31:21.019591680   \n",
       "Last Updated        2235326  2019-12-03 14:46:04.660903424   \n",
       "size_in_MB        2184196.0                      19.143454   \n",
       "\n",
       "                                  min                  25%  \\\n",
       "Rating                            0.0                  0.0   \n",
       "Rating Count                      0.0                  0.0   \n",
       "Minimum Installs                  0.0                 50.0   \n",
       "Maximum Installs                  0.0                 86.0   \n",
       "Price                             0.0                  0.0   \n",
       "Released          2010-01-28 00:00:00  2017-07-01 00:00:00   \n",
       "Last Updated      2009-02-09 00:00:00  2019-04-15 00:00:00   \n",
       "size_in_MB                   0.003125                  4.9   \n",
       "\n",
       "                                  50%                  75%  \\\n",
       "Rating                            3.0                  4.3   \n",
       "Rating Count                      6.0                 42.0   \n",
       "Minimum Installs                500.0               5000.0   \n",
       "Maximum Installs                706.0               7427.0   \n",
       "Price                             0.0                  0.0   \n",
       "Released          2019-03-19 00:00:00  2020-04-15 00:00:00   \n",
       "Last Updated      2020-05-14 00:00:00  2021-02-04 00:00:00   \n",
       "size_in_MB                       10.0                 25.0   \n",
       "\n",
       "                                  max              std  \n",
       "Rating                            5.0          2.10836  \n",
       "Rating Count              138557570.0    198757.431682  \n",
       "Minimum Installs        10000000000.0    14203877.2196  \n",
       "Maximum Installs        12057627016.0  22088564.214633  \n",
       "Price                           400.0         2.660894  \n",
       "Released          2021-06-16 00:00:00              NaN  \n",
       "Last Updated      2021-06-16 00:00:00              NaN  \n",
       "size_in_MB                     1536.0        23.915915  "
      ]
     },
     "execution_count": 102,
     "metadata": {},
     "output_type": "execute_result"
    }
   ],
   "source": [
    "df.describe().T"
   ]
  },
  {
   "cell_type": "markdown",
   "metadata": {},
   "source": [
    "**Observation set 2:**\n",
    "- Minimum size of app is 3KB and maximum size is 1536MB. \n",
    "- AVERAGE size is 10MB.\n",
    "- More than 75% apps are free.\n",
    "- According to this dataset first app was released on 2010-01-28 and latest app(till this dataset collected) was released on 2021-06-16.\n",
    "- Oldest updated app date is 2009-02-09 however the first app was released on 2010-01-28, it is impossible for an app being updated before it's release, It is anomaly and we will try to find more anomalies like this."
   ]
  },
  {
   "cell_type": "code",
   "execution_count": 103,
   "metadata": {},
   "outputs": [
    {
     "data": {
      "text/html": [
       "<div>\n",
       "<style scoped>\n",
       "    .dataframe tbody tr th:only-of-type {\n",
       "        vertical-align: middle;\n",
       "    }\n",
       "\n",
       "    .dataframe tbody tr th {\n",
       "        vertical-align: top;\n",
       "    }\n",
       "\n",
       "    .dataframe thead th {\n",
       "        text-align: right;\n",
       "    }\n",
       "</style>\n",
       "<table border=\"1\" class=\"dataframe\">\n",
       "  <thead>\n",
       "    <tr style=\"text-align: right;\">\n",
       "      <th></th>\n",
       "      <th>App Name</th>\n",
       "      <th>App Id</th>\n",
       "      <th>Category</th>\n",
       "      <th>Rating</th>\n",
       "      <th>Rating Count</th>\n",
       "      <th>Installs</th>\n",
       "      <th>Minimum Installs</th>\n",
       "      <th>Maximum Installs</th>\n",
       "      <th>Free</th>\n",
       "      <th>Price</th>\n",
       "      <th>Currency</th>\n",
       "      <th>Size</th>\n",
       "      <th>Minimum Android</th>\n",
       "      <th>Developer Id</th>\n",
       "      <th>Developer Website</th>\n",
       "      <th>Developer Email</th>\n",
       "      <th>Released</th>\n",
       "      <th>Last Updated</th>\n",
       "      <th>Content Rating</th>\n",
       "      <th>Privacy Policy</th>\n",
       "      <th>Ad Supported</th>\n",
       "      <th>In App Purchases</th>\n",
       "      <th>Editors Choice</th>\n",
       "      <th>size_in_MB</th>\n",
       "    </tr>\n",
       "  </thead>\n",
       "  <tbody>\n",
       "    <tr>\n",
       "      <th>count</th>\n",
       "      <td>2235326</td>\n",
       "      <td>2235326</td>\n",
       "      <td>2235326</td>\n",
       "      <td>2.235326e+06</td>\n",
       "      <td>2.235326e+06</td>\n",
       "      <td>2235326</td>\n",
       "      <td>2.235326e+06</td>\n",
       "      <td>2.235326e+06</td>\n",
       "      <td>2235326</td>\n",
       "      <td>2.235326e+06</td>\n",
       "      <td>2235326</td>\n",
       "      <td>2235326</td>\n",
       "      <td>2235326</td>\n",
       "      <td>2235326</td>\n",
       "      <td>2235326</td>\n",
       "      <td>2235326</td>\n",
       "      <td>2235326</td>\n",
       "      <td>2235326</td>\n",
       "      <td>2235326</td>\n",
       "      <td>2235326</td>\n",
       "      <td>2235326</td>\n",
       "      <td>2235326</td>\n",
       "      <td>2235326</td>\n",
       "      <td>2.184196e+06</td>\n",
       "    </tr>\n",
       "    <tr>\n",
       "      <th>unique</th>\n",
       "      <td>2104582</td>\n",
       "      <td>2235326</td>\n",
       "      <td>48</td>\n",
       "      <td>NaN</td>\n",
       "      <td>NaN</td>\n",
       "      <td>22</td>\n",
       "      <td>NaN</td>\n",
       "      <td>NaN</td>\n",
       "      <td>2</td>\n",
       "      <td>NaN</td>\n",
       "      <td>13</td>\n",
       "      <td>1644</td>\n",
       "      <td>148</td>\n",
       "      <td>733342</td>\n",
       "      <td>774267</td>\n",
       "      <td>910496</td>\n",
       "      <td>NaN</td>\n",
       "      <td>NaN</td>\n",
       "      <td>6</td>\n",
       "      <td>938742</td>\n",
       "      <td>2</td>\n",
       "      <td>2</td>\n",
       "      <td>2</td>\n",
       "      <td>NaN</td>\n",
       "    </tr>\n",
       "    <tr>\n",
       "      <th>top</th>\n",
       "      <td>Tic Tac Toe</td>\n",
       "      <td>com.ishakwe.gakondo</td>\n",
       "      <td>Education</td>\n",
       "      <td>NaN</td>\n",
       "      <td>NaN</td>\n",
       "      <td>100+</td>\n",
       "      <td>NaN</td>\n",
       "      <td>NaN</td>\n",
       "      <td>True</td>\n",
       "      <td>NaN</td>\n",
       "      <td>USD</td>\n",
       "      <td>11M</td>\n",
       "      <td>4.1 and up</td>\n",
       "      <td>Subsplash Inc</td>\n",
       "      <td>not present</td>\n",
       "      <td>support@classplus.co</td>\n",
       "      <td>NaN</td>\n",
       "      <td>NaN</td>\n",
       "      <td>Everyone</td>\n",
       "      <td>not present</td>\n",
       "      <td>True</td>\n",
       "      <td>False</td>\n",
       "      <td>False</td>\n",
       "      <td>NaN</td>\n",
       "    </tr>\n",
       "    <tr>\n",
       "      <th>freq</th>\n",
       "      <td>381</td>\n",
       "      <td>1</td>\n",
       "      <td>235582</td>\n",
       "      <td>NaN</td>\n",
       "      <td>NaN</td>\n",
       "      <td>429307</td>\n",
       "      <td>NaN</td>\n",
       "      <td>NaN</td>\n",
       "      <td>2191389</td>\n",
       "      <td>NaN</td>\n",
       "      <td>2234090</td>\n",
       "      <td>60792</td>\n",
       "      <td>594964</td>\n",
       "      <td>5422</td>\n",
       "      <td>740576</td>\n",
       "      <td>10345</td>\n",
       "      <td>NaN</td>\n",
       "      <td>NaN</td>\n",
       "      <td>1954018</td>\n",
       "      <td>405465</td>\n",
       "      <td>1133173</td>\n",
       "      <td>2044419</td>\n",
       "      <td>2234542</td>\n",
       "      <td>NaN</td>\n",
       "    </tr>\n",
       "    <tr>\n",
       "      <th>mean</th>\n",
       "      <td>NaN</td>\n",
       "      <td>NaN</td>\n",
       "      <td>NaN</td>\n",
       "      <td>2.206446e+00</td>\n",
       "      <td>2.759855e+03</td>\n",
       "      <td>NaN</td>\n",
       "      <td>1.760266e+05</td>\n",
       "      <td>3.081135e+05</td>\n",
       "      <td>NaN</td>\n",
       "      <td>1.047672e-01</td>\n",
       "      <td>NaN</td>\n",
       "      <td>NaN</td>\n",
       "      <td>NaN</td>\n",
       "      <td>NaN</td>\n",
       "      <td>NaN</td>\n",
       "      <td>NaN</td>\n",
       "      <td>2018-08-29 01:31:21.019591680</td>\n",
       "      <td>2019-12-03 14:46:04.660903424</td>\n",
       "      <td>NaN</td>\n",
       "      <td>NaN</td>\n",
       "      <td>NaN</td>\n",
       "      <td>NaN</td>\n",
       "      <td>NaN</td>\n",
       "      <td>1.914345e+01</td>\n",
       "    </tr>\n",
       "    <tr>\n",
       "      <th>min</th>\n",
       "      <td>NaN</td>\n",
       "      <td>NaN</td>\n",
       "      <td>NaN</td>\n",
       "      <td>0.000000e+00</td>\n",
       "      <td>0.000000e+00</td>\n",
       "      <td>NaN</td>\n",
       "      <td>0.000000e+00</td>\n",
       "      <td>0.000000e+00</td>\n",
       "      <td>NaN</td>\n",
       "      <td>0.000000e+00</td>\n",
       "      <td>NaN</td>\n",
       "      <td>NaN</td>\n",
       "      <td>NaN</td>\n",
       "      <td>NaN</td>\n",
       "      <td>NaN</td>\n",
       "      <td>NaN</td>\n",
       "      <td>2010-01-28 00:00:00</td>\n",
       "      <td>2009-02-09 00:00:00</td>\n",
       "      <td>NaN</td>\n",
       "      <td>NaN</td>\n",
       "      <td>NaN</td>\n",
       "      <td>NaN</td>\n",
       "      <td>NaN</td>\n",
       "      <td>3.125000e-03</td>\n",
       "    </tr>\n",
       "    <tr>\n",
       "      <th>25%</th>\n",
       "      <td>NaN</td>\n",
       "      <td>NaN</td>\n",
       "      <td>NaN</td>\n",
       "      <td>0.000000e+00</td>\n",
       "      <td>0.000000e+00</td>\n",
       "      <td>NaN</td>\n",
       "      <td>5.000000e+01</td>\n",
       "      <td>8.600000e+01</td>\n",
       "      <td>NaN</td>\n",
       "      <td>0.000000e+00</td>\n",
       "      <td>NaN</td>\n",
       "      <td>NaN</td>\n",
       "      <td>NaN</td>\n",
       "      <td>NaN</td>\n",
       "      <td>NaN</td>\n",
       "      <td>NaN</td>\n",
       "      <td>2017-07-01 00:00:00</td>\n",
       "      <td>2019-04-15 00:00:00</td>\n",
       "      <td>NaN</td>\n",
       "      <td>NaN</td>\n",
       "      <td>NaN</td>\n",
       "      <td>NaN</td>\n",
       "      <td>NaN</td>\n",
       "      <td>4.900000e+00</td>\n",
       "    </tr>\n",
       "    <tr>\n",
       "      <th>50%</th>\n",
       "      <td>NaN</td>\n",
       "      <td>NaN</td>\n",
       "      <td>NaN</td>\n",
       "      <td>3.000000e+00</td>\n",
       "      <td>6.000000e+00</td>\n",
       "      <td>NaN</td>\n",
       "      <td>5.000000e+02</td>\n",
       "      <td>7.060000e+02</td>\n",
       "      <td>NaN</td>\n",
       "      <td>0.000000e+00</td>\n",
       "      <td>NaN</td>\n",
       "      <td>NaN</td>\n",
       "      <td>NaN</td>\n",
       "      <td>NaN</td>\n",
       "      <td>NaN</td>\n",
       "      <td>NaN</td>\n",
       "      <td>2019-03-19 00:00:00</td>\n",
       "      <td>2020-05-14 00:00:00</td>\n",
       "      <td>NaN</td>\n",
       "      <td>NaN</td>\n",
       "      <td>NaN</td>\n",
       "      <td>NaN</td>\n",
       "      <td>NaN</td>\n",
       "      <td>1.000000e+01</td>\n",
       "    </tr>\n",
       "    <tr>\n",
       "      <th>75%</th>\n",
       "      <td>NaN</td>\n",
       "      <td>NaN</td>\n",
       "      <td>NaN</td>\n",
       "      <td>4.300000e+00</td>\n",
       "      <td>4.200000e+01</td>\n",
       "      <td>NaN</td>\n",
       "      <td>5.000000e+03</td>\n",
       "      <td>7.427000e+03</td>\n",
       "      <td>NaN</td>\n",
       "      <td>0.000000e+00</td>\n",
       "      <td>NaN</td>\n",
       "      <td>NaN</td>\n",
       "      <td>NaN</td>\n",
       "      <td>NaN</td>\n",
       "      <td>NaN</td>\n",
       "      <td>NaN</td>\n",
       "      <td>2020-04-15 00:00:00</td>\n",
       "      <td>2021-02-04 00:00:00</td>\n",
       "      <td>NaN</td>\n",
       "      <td>NaN</td>\n",
       "      <td>NaN</td>\n",
       "      <td>NaN</td>\n",
       "      <td>NaN</td>\n",
       "      <td>2.500000e+01</td>\n",
       "    </tr>\n",
       "    <tr>\n",
       "      <th>max</th>\n",
       "      <td>NaN</td>\n",
       "      <td>NaN</td>\n",
       "      <td>NaN</td>\n",
       "      <td>5.000000e+00</td>\n",
       "      <td>1.385576e+08</td>\n",
       "      <td>NaN</td>\n",
       "      <td>1.000000e+10</td>\n",
       "      <td>1.205763e+10</td>\n",
       "      <td>NaN</td>\n",
       "      <td>4.000000e+02</td>\n",
       "      <td>NaN</td>\n",
       "      <td>NaN</td>\n",
       "      <td>NaN</td>\n",
       "      <td>NaN</td>\n",
       "      <td>NaN</td>\n",
       "      <td>NaN</td>\n",
       "      <td>2021-06-16 00:00:00</td>\n",
       "      <td>2021-06-16 00:00:00</td>\n",
       "      <td>NaN</td>\n",
       "      <td>NaN</td>\n",
       "      <td>NaN</td>\n",
       "      <td>NaN</td>\n",
       "      <td>NaN</td>\n",
       "      <td>1.536000e+03</td>\n",
       "    </tr>\n",
       "    <tr>\n",
       "      <th>std</th>\n",
       "      <td>NaN</td>\n",
       "      <td>NaN</td>\n",
       "      <td>NaN</td>\n",
       "      <td>2.108360e+00</td>\n",
       "      <td>1.987574e+05</td>\n",
       "      <td>NaN</td>\n",
       "      <td>1.420388e+07</td>\n",
       "      <td>2.208856e+07</td>\n",
       "      <td>NaN</td>\n",
       "      <td>2.660894e+00</td>\n",
       "      <td>NaN</td>\n",
       "      <td>NaN</td>\n",
       "      <td>NaN</td>\n",
       "      <td>NaN</td>\n",
       "      <td>NaN</td>\n",
       "      <td>NaN</td>\n",
       "      <td>NaN</td>\n",
       "      <td>NaN</td>\n",
       "      <td>NaN</td>\n",
       "      <td>NaN</td>\n",
       "      <td>NaN</td>\n",
       "      <td>NaN</td>\n",
       "      <td>NaN</td>\n",
       "      <td>2.391591e+01</td>\n",
       "    </tr>\n",
       "  </tbody>\n",
       "</table>\n",
       "</div>"
      ],
      "text/plain": [
       "           App Name               App Id   Category        Rating  \\\n",
       "count       2235326              2235326    2235326  2.235326e+06   \n",
       "unique      2104582              2235326         48           NaN   \n",
       "top     Tic Tac Toe  com.ishakwe.gakondo  Education           NaN   \n",
       "freq            381                    1     235582           NaN   \n",
       "mean            NaN                  NaN        NaN  2.206446e+00   \n",
       "min             NaN                  NaN        NaN  0.000000e+00   \n",
       "25%             NaN                  NaN        NaN  0.000000e+00   \n",
       "50%             NaN                  NaN        NaN  3.000000e+00   \n",
       "75%             NaN                  NaN        NaN  4.300000e+00   \n",
       "max             NaN                  NaN        NaN  5.000000e+00   \n",
       "std             NaN                  NaN        NaN  2.108360e+00   \n",
       "\n",
       "        Rating Count Installs  Minimum Installs  Maximum Installs     Free  \\\n",
       "count   2.235326e+06  2235326      2.235326e+06      2.235326e+06  2235326   \n",
       "unique           NaN       22               NaN               NaN        2   \n",
       "top              NaN     100+               NaN               NaN     True   \n",
       "freq             NaN   429307               NaN               NaN  2191389   \n",
       "mean    2.759855e+03      NaN      1.760266e+05      3.081135e+05      NaN   \n",
       "min     0.000000e+00      NaN      0.000000e+00      0.000000e+00      NaN   \n",
       "25%     0.000000e+00      NaN      5.000000e+01      8.600000e+01      NaN   \n",
       "50%     6.000000e+00      NaN      5.000000e+02      7.060000e+02      NaN   \n",
       "75%     4.200000e+01      NaN      5.000000e+03      7.427000e+03      NaN   \n",
       "max     1.385576e+08      NaN      1.000000e+10      1.205763e+10      NaN   \n",
       "std     1.987574e+05      NaN      1.420388e+07      2.208856e+07      NaN   \n",
       "\n",
       "               Price Currency     Size Minimum Android   Developer Id  \\\n",
       "count   2.235326e+06  2235326  2235326         2235326        2235326   \n",
       "unique           NaN       13     1644             148         733342   \n",
       "top              NaN      USD      11M      4.1 and up  Subsplash Inc   \n",
       "freq             NaN  2234090    60792          594964           5422   \n",
       "mean    1.047672e-01      NaN      NaN             NaN            NaN   \n",
       "min     0.000000e+00      NaN      NaN             NaN            NaN   \n",
       "25%     0.000000e+00      NaN      NaN             NaN            NaN   \n",
       "50%     0.000000e+00      NaN      NaN             NaN            NaN   \n",
       "75%     0.000000e+00      NaN      NaN             NaN            NaN   \n",
       "max     4.000000e+02      NaN      NaN             NaN            NaN   \n",
       "std     2.660894e+00      NaN      NaN             NaN            NaN   \n",
       "\n",
       "       Developer Website       Developer Email                       Released  \\\n",
       "count            2235326               2235326                        2235326   \n",
       "unique            774267                910496                            NaN   \n",
       "top          not present  support@classplus.co                            NaN   \n",
       "freq              740576                 10345                            NaN   \n",
       "mean                 NaN                   NaN  2018-08-29 01:31:21.019591680   \n",
       "min                  NaN                   NaN            2010-01-28 00:00:00   \n",
       "25%                  NaN                   NaN            2017-07-01 00:00:00   \n",
       "50%                  NaN                   NaN            2019-03-19 00:00:00   \n",
       "75%                  NaN                   NaN            2020-04-15 00:00:00   \n",
       "max                  NaN                   NaN            2021-06-16 00:00:00   \n",
       "std                  NaN                   NaN                            NaN   \n",
       "\n",
       "                         Last Updated Content Rating Privacy Policy  \\\n",
       "count                         2235326        2235326        2235326   \n",
       "unique                            NaN              6         938742   \n",
       "top                               NaN       Everyone    not present   \n",
       "freq                              NaN        1954018         405465   \n",
       "mean    2019-12-03 14:46:04.660903424            NaN            NaN   \n",
       "min               2009-02-09 00:00:00            NaN            NaN   \n",
       "25%               2019-04-15 00:00:00            NaN            NaN   \n",
       "50%               2020-05-14 00:00:00            NaN            NaN   \n",
       "75%               2021-02-04 00:00:00            NaN            NaN   \n",
       "max               2021-06-16 00:00:00            NaN            NaN   \n",
       "std                               NaN            NaN            NaN   \n",
       "\n",
       "       Ad Supported In App Purchases Editors Choice    size_in_MB  \n",
       "count       2235326          2235326        2235326  2.184196e+06  \n",
       "unique            2                2              2           NaN  \n",
       "top            True            False          False           NaN  \n",
       "freq        1133173          2044419        2234542           NaN  \n",
       "mean            NaN              NaN            NaN  1.914345e+01  \n",
       "min             NaN              NaN            NaN  3.125000e-03  \n",
       "25%             NaN              NaN            NaN  4.900000e+00  \n",
       "50%             NaN              NaN            NaN  1.000000e+01  \n",
       "75%             NaN              NaN            NaN  2.500000e+01  \n",
       "max             NaN              NaN            NaN  1.536000e+03  \n",
       "std             NaN              NaN            NaN  2.391591e+01  "
      ]
     },
     "execution_count": 103,
     "metadata": {},
     "output_type": "execute_result"
    }
   ],
   "source": [
    "df.describe(include=\"all\")"
   ]
  },
  {
   "cell_type": "markdown",
   "metadata": {},
   "source": [
    "**Observation set 3:**\n",
    "- Out of 2235326 apps, 2104582 app names are unique. \"Tic Tac Toe\", is the most copied names.\n",
    "- There are 48 categories of apps and education category have most number of apps.\n",
    "- most of the apps have downloads in hundreds.\n",
    "- There are 13 type of currencies, and \"USD\" is the most common.\n",
    "- \"4.1 and up\" is the most common android version.\n",
    "- most of the developers don't have their own website.\n",
    "- Most of the apps are ad supported.\n",
    "- Most of the apps don't allow in app purchase."
   ]
  },
  {
   "cell_type": "markdown",
   "metadata": {},
   "source": [
    "### 5.2 Released and last_Updated dates Anomalies"
   ]
  },
  {
   "cell_type": "code",
   "execution_count": 104,
   "metadata": {},
   "outputs": [
    {
     "data": {
      "text/plain": [
       "0.4396226769607654"
      ]
     },
     "execution_count": 104,
     "metadata": {},
     "output_type": "execute_result"
    }
   ],
   "source": [
    "(len(df[df[\"Released\"]>df[\"Last Updated\"]])/len(df))*100"
   ]
  },
  {
   "cell_type": "markdown",
   "metadata": {},
   "source": [
    "- As their percentage is very small, so I deided to keep only those entries where released date is less than last updated date."
   ]
  },
  {
   "cell_type": "code",
   "execution_count": 105,
   "metadata": {},
   "outputs": [],
   "source": [
    "df=df[df[\"Released\"]<df[\"Last Updated\"]]"
   ]
  },
  {
   "cell_type": "markdown",
   "metadata": {},
   "source": [
    "**App age column**"
   ]
  },
  {
   "cell_type": "code",
   "execution_count": 106,
   "metadata": {},
   "outputs": [
    {
     "data": {
      "text/html": [
       "<div>\n",
       "<style scoped>\n",
       "    .dataframe tbody tr th:only-of-type {\n",
       "        vertical-align: middle;\n",
       "    }\n",
       "\n",
       "    .dataframe tbody tr th {\n",
       "        vertical-align: top;\n",
       "    }\n",
       "\n",
       "    .dataframe thead th {\n",
       "        text-align: right;\n",
       "    }\n",
       "</style>\n",
       "<table border=\"1\" class=\"dataframe\">\n",
       "  <thead>\n",
       "    <tr style=\"text-align: right;\">\n",
       "      <th></th>\n",
       "      <th>App Name</th>\n",
       "      <th>App Id</th>\n",
       "      <th>Category</th>\n",
       "      <th>Rating</th>\n",
       "      <th>Rating Count</th>\n",
       "      <th>Installs</th>\n",
       "      <th>Minimum Installs</th>\n",
       "      <th>Maximum Installs</th>\n",
       "      <th>Free</th>\n",
       "      <th>Price</th>\n",
       "      <th>Currency</th>\n",
       "      <th>Size</th>\n",
       "      <th>Minimum Android</th>\n",
       "      <th>Developer Id</th>\n",
       "      <th>Developer Website</th>\n",
       "      <th>Developer Email</th>\n",
       "      <th>Released</th>\n",
       "      <th>Last Updated</th>\n",
       "      <th>Content Rating</th>\n",
       "      <th>Privacy Policy</th>\n",
       "      <th>Ad Supported</th>\n",
       "      <th>In App Purchases</th>\n",
       "      <th>Editors Choice</th>\n",
       "      <th>size_in_MB</th>\n",
       "      <th>age_in_month</th>\n",
       "    </tr>\n",
       "  </thead>\n",
       "  <tbody>\n",
       "    <tr>\n",
       "      <th>1</th>\n",
       "      <td>Ampere Battery Info</td>\n",
       "      <td>com.webserveis.batteryinfo</td>\n",
       "      <td>Tools</td>\n",
       "      <td>4.4</td>\n",
       "      <td>64.0</td>\n",
       "      <td>5,000+</td>\n",
       "      <td>5000.0</td>\n",
       "      <td>7662</td>\n",
       "      <td>True</td>\n",
       "      <td>0.0</td>\n",
       "      <td>USD</td>\n",
       "      <td>2.9M</td>\n",
       "      <td>5.0 and up</td>\n",
       "      <td>Webserveis</td>\n",
       "      <td>https://webserveis.netlify.app/</td>\n",
       "      <td>webserveis@gmail.com</td>\n",
       "      <td>2020-05-21</td>\n",
       "      <td>2021-05-06</td>\n",
       "      <td>Everyone</td>\n",
       "      <td>https://dev4phones.wordpress.com/licencia-de-uso/</td>\n",
       "      <td>True</td>\n",
       "      <td>False</td>\n",
       "      <td>False</td>\n",
       "      <td>2.9</td>\n",
       "      <td>13</td>\n",
       "    </tr>\n",
       "    <tr>\n",
       "      <th>2</th>\n",
       "      <td>Vibook</td>\n",
       "      <td>com.doantiepvien.crm</td>\n",
       "      <td>Productivity</td>\n",
       "      <td>0.0</td>\n",
       "      <td>0.0</td>\n",
       "      <td>50+</td>\n",
       "      <td>50.0</td>\n",
       "      <td>58</td>\n",
       "      <td>True</td>\n",
       "      <td>0.0</td>\n",
       "      <td>USD</td>\n",
       "      <td>3.7M</td>\n",
       "      <td>4.0.3 and up</td>\n",
       "      <td>Cabin Crew</td>\n",
       "      <td>not present</td>\n",
       "      <td>vnacrewit@gmail.com</td>\n",
       "      <td>2019-08-09</td>\n",
       "      <td>2019-08-19</td>\n",
       "      <td>Everyone</td>\n",
       "      <td>https://www.vietnamairlines.com/vn/en/terms-an...</td>\n",
       "      <td>False</td>\n",
       "      <td>False</td>\n",
       "      <td>False</td>\n",
       "      <td>3.7</td>\n",
       "      <td>22</td>\n",
       "    </tr>\n",
       "    <tr>\n",
       "      <th>3</th>\n",
       "      <td>Smart City Trichy Public Service Vehicles 17UC...</td>\n",
       "      <td>cst.stJoseph.ug17ucs548</td>\n",
       "      <td>Communication</td>\n",
       "      <td>5.0</td>\n",
       "      <td>5.0</td>\n",
       "      <td>10+</td>\n",
       "      <td>10.0</td>\n",
       "      <td>19</td>\n",
       "      <td>True</td>\n",
       "      <td>0.0</td>\n",
       "      <td>USD</td>\n",
       "      <td>1.8M</td>\n",
       "      <td>4.0.3 and up</td>\n",
       "      <td>Climate Smart Tech2</td>\n",
       "      <td>http://www.climatesmarttech.com/</td>\n",
       "      <td>climatesmarttech2@gmail.com</td>\n",
       "      <td>2018-09-10</td>\n",
       "      <td>2018-10-13</td>\n",
       "      <td>Everyone</td>\n",
       "      <td>not present</td>\n",
       "      <td>True</td>\n",
       "      <td>False</td>\n",
       "      <td>False</td>\n",
       "      <td>1.8</td>\n",
       "      <td>33</td>\n",
       "    </tr>\n",
       "    <tr>\n",
       "      <th>5</th>\n",
       "      <td>IMOCCI</td>\n",
       "      <td>com.imocci</td>\n",
       "      <td>Social</td>\n",
       "      <td>0.0</td>\n",
       "      <td>0.0</td>\n",
       "      <td>50+</td>\n",
       "      <td>50.0</td>\n",
       "      <td>89</td>\n",
       "      <td>True</td>\n",
       "      <td>0.0</td>\n",
       "      <td>USD</td>\n",
       "      <td>46M</td>\n",
       "      <td>6.0 and up</td>\n",
       "      <td>Imocci GmbH</td>\n",
       "      <td>http://www.imocci.com</td>\n",
       "      <td>info@imocci.com</td>\n",
       "      <td>2018-12-24</td>\n",
       "      <td>2019-12-20</td>\n",
       "      <td>Teen</td>\n",
       "      <td>https://www.imocci.com/wp-content/uploads/2018...</td>\n",
       "      <td>False</td>\n",
       "      <td>True</td>\n",
       "      <td>False</td>\n",
       "      <td>46.0</td>\n",
       "      <td>30</td>\n",
       "    </tr>\n",
       "    <tr>\n",
       "      <th>6</th>\n",
       "      <td>unlimited 4G data prank free app</td>\n",
       "      <td>getfreedata.superfatiza.unlimitedjiodataprank</td>\n",
       "      <td>Libraries &amp; Demo</td>\n",
       "      <td>4.5</td>\n",
       "      <td>12.0</td>\n",
       "      <td>1,000+</td>\n",
       "      <td>1000.0</td>\n",
       "      <td>2567</td>\n",
       "      <td>True</td>\n",
       "      <td>0.0</td>\n",
       "      <td>USD</td>\n",
       "      <td>2.5M</td>\n",
       "      <td>4.1 and up</td>\n",
       "      <td>android developer779</td>\n",
       "      <td>not present</td>\n",
       "      <td>aitomgharfatimezzahra@gmail.com</td>\n",
       "      <td>2019-09-23</td>\n",
       "      <td>2019-09-27</td>\n",
       "      <td>Everyone</td>\n",
       "      <td>https://sites.google.com/view/unlimited4gdatap...</td>\n",
       "      <td>True</td>\n",
       "      <td>False</td>\n",
       "      <td>False</td>\n",
       "      <td>2.5</td>\n",
       "      <td>21</td>\n",
       "    </tr>\n",
       "  </tbody>\n",
       "</table>\n",
       "</div>"
      ],
      "text/plain": [
       "                                            App Name  \\\n",
       "1                                Ampere Battery Info   \n",
       "2                                             Vibook   \n",
       "3  Smart City Trichy Public Service Vehicles 17UC...   \n",
       "5                                             IMOCCI   \n",
       "6                   unlimited 4G data prank free app   \n",
       "\n",
       "                                          App Id          Category  Rating  \\\n",
       "1                     com.webserveis.batteryinfo             Tools     4.4   \n",
       "2                           com.doantiepvien.crm      Productivity     0.0   \n",
       "3                        cst.stJoseph.ug17ucs548     Communication     5.0   \n",
       "5                                     com.imocci            Social     0.0   \n",
       "6  getfreedata.superfatiza.unlimitedjiodataprank  Libraries & Demo     4.5   \n",
       "\n",
       "   Rating Count Installs  Minimum Installs  Maximum Installs  Free  Price  \\\n",
       "1          64.0   5,000+            5000.0              7662  True    0.0   \n",
       "2           0.0      50+              50.0                58  True    0.0   \n",
       "3           5.0      10+              10.0                19  True    0.0   \n",
       "5           0.0      50+              50.0                89  True    0.0   \n",
       "6          12.0   1,000+            1000.0              2567  True    0.0   \n",
       "\n",
       "  Currency  Size Minimum Android          Developer Id  \\\n",
       "1      USD  2.9M      5.0 and up            Webserveis   \n",
       "2      USD  3.7M    4.0.3 and up            Cabin Crew   \n",
       "3      USD  1.8M    4.0.3 and up   Climate Smart Tech2   \n",
       "5      USD   46M      6.0 and up           Imocci GmbH   \n",
       "6      USD  2.5M      4.1 and up  android developer779   \n",
       "\n",
       "                  Developer Website                  Developer Email  \\\n",
       "1   https://webserveis.netlify.app/             webserveis@gmail.com   \n",
       "2                       not present              vnacrewit@gmail.com   \n",
       "3  http://www.climatesmarttech.com/      climatesmarttech2@gmail.com   \n",
       "5             http://www.imocci.com                  info@imocci.com   \n",
       "6                       not present  aitomgharfatimezzahra@gmail.com   \n",
       "\n",
       "    Released Last Updated Content Rating  \\\n",
       "1 2020-05-21   2021-05-06       Everyone   \n",
       "2 2019-08-09   2019-08-19       Everyone   \n",
       "3 2018-09-10   2018-10-13       Everyone   \n",
       "5 2018-12-24   2019-12-20           Teen   \n",
       "6 2019-09-23   2019-09-27       Everyone   \n",
       "\n",
       "                                      Privacy Policy  Ad Supported  \\\n",
       "1  https://dev4phones.wordpress.com/licencia-de-uso/          True   \n",
       "2  https://www.vietnamairlines.com/vn/en/terms-an...         False   \n",
       "3                                        not present          True   \n",
       "5  https://www.imocci.com/wp-content/uploads/2018...         False   \n",
       "6  https://sites.google.com/view/unlimited4gdatap...          True   \n",
       "\n",
       "   In App Purchases  Editors Choice  size_in_MB  age_in_month  \n",
       "1             False           False         2.9            13  \n",
       "2             False           False         3.7            22  \n",
       "3             False           False         1.8            33  \n",
       "5              True           False        46.0            30  \n",
       "6             False           False         2.5            21  "
      ]
     },
     "execution_count": 106,
     "metadata": {},
     "output_type": "execute_result"
    }
   ],
   "source": [
    "today=pd.to_datetime(\"2021-06-16\")\n",
    "df[\"age_in_month\"]=(today-df[\"Released\"]).dt.days // 30\n",
    "df.head()"
   ]
  },
  {
   "cell_type": "markdown",
   "metadata": {},
   "source": [
    "<html>\n",
    "<head>\n",
    "    <style>\n",
    "        .chapter-heading {\n",
    "            background: linear-gradient(45deg, #333 25%, transparent 25%, transparent 75%, #333 75%, #333);\n",
    "            color: #4285F4;\n",
    "            padding: 10px;\n",
    "            border-radius: 5px;\n",
    "            box-shadow: 0 2px 4px rgba(0, 0, 0, 0.2);\n",
    "            text-align: center;\n",
    "            font-size: 18px;\n",
    "            font-weight: bold;\n",
    "            margin-bottom: 10px;\n",
    "        }\n",
    "    </style>\n",
    "</head>\n",
    "<body>\n",
    "    <div class=\"chapter-heading\">\n",
    "        <h1>6.0 Question and Aswers :</h1>\n",
    "    </div>\n",
    "</body>\n",
    "</html>"
   ]
  },
  {
   "cell_type": "markdown",
   "metadata": {},
   "source": [
    "We are going to pose following questions against the dataset:\n",
    "- **Q1.** Is there any correlations between rating and dowloads?\n",
    "- **Q2:** Is there any relationship between downloads and app type(free/paid)?\n",
    "- **Q3.** Which TOP 5 app categories have the most number of apps?\n",
    "- **Q4.** Which TOP 5 app categories have the most downloads?\n",
    "- **Q5.** How does the price of an app (free vs. paid) affect its rating?\n",
    "- **Q6.** How does app size relate to installs?\n",
    "- **Q7.** Are Size and Rating dependent on each other? \n",
    "- **Q8.** Does the content rating of an app (e.g., Everyone, Teen, Mature) influence its install base?\n",
    "- **Q9.** Which Year has the most number of apps released?\n",
    "- **Q10.** Apps released in Which Year could get the most number of app downloads?\n",
    "- **Q11:** Does app age influences it's downoads?\n",
    "- **Q12.** Show interdependency of all numerical features."
   ]
  },
  {
   "cell_type": "code",
   "execution_count": 107,
   "metadata": {},
   "outputs": [
    {
     "data": {
      "text/html": [
       "<div>\n",
       "<style scoped>\n",
       "    .dataframe tbody tr th:only-of-type {\n",
       "        vertical-align: middle;\n",
       "    }\n",
       "\n",
       "    .dataframe tbody tr th {\n",
       "        vertical-align: top;\n",
       "    }\n",
       "\n",
       "    .dataframe thead th {\n",
       "        text-align: right;\n",
       "    }\n",
       "</style>\n",
       "<table border=\"1\" class=\"dataframe\">\n",
       "  <thead>\n",
       "    <tr style=\"text-align: right;\">\n",
       "      <th></th>\n",
       "      <th>App Name</th>\n",
       "      <th>App Id</th>\n",
       "      <th>Category</th>\n",
       "      <th>Rating</th>\n",
       "      <th>Rating Count</th>\n",
       "      <th>Installs</th>\n",
       "      <th>Minimum Installs</th>\n",
       "      <th>Maximum Installs</th>\n",
       "      <th>Free</th>\n",
       "      <th>Price</th>\n",
       "      <th>Currency</th>\n",
       "      <th>Size</th>\n",
       "      <th>Minimum Android</th>\n",
       "      <th>Developer Id</th>\n",
       "      <th>Developer Website</th>\n",
       "      <th>Developer Email</th>\n",
       "      <th>Released</th>\n",
       "      <th>Last Updated</th>\n",
       "      <th>Content Rating</th>\n",
       "      <th>Privacy Policy</th>\n",
       "      <th>Ad Supported</th>\n",
       "      <th>In App Purchases</th>\n",
       "      <th>Editors Choice</th>\n",
       "      <th>size_in_MB</th>\n",
       "      <th>age_in_month</th>\n",
       "    </tr>\n",
       "  </thead>\n",
       "  <tbody>\n",
       "    <tr>\n",
       "      <th>1</th>\n",
       "      <td>Ampere Battery Info</td>\n",
       "      <td>com.webserveis.batteryinfo</td>\n",
       "      <td>Tools</td>\n",
       "      <td>4.4</td>\n",
       "      <td>64.0</td>\n",
       "      <td>5,000+</td>\n",
       "      <td>5000.0</td>\n",
       "      <td>7662</td>\n",
       "      <td>True</td>\n",
       "      <td>0.0</td>\n",
       "      <td>USD</td>\n",
       "      <td>2.9M</td>\n",
       "      <td>5.0 and up</td>\n",
       "      <td>Webserveis</td>\n",
       "      <td>https://webserveis.netlify.app/</td>\n",
       "      <td>webserveis@gmail.com</td>\n",
       "      <td>2020-05-21</td>\n",
       "      <td>2021-05-06</td>\n",
       "      <td>Everyone</td>\n",
       "      <td>https://dev4phones.wordpress.com/licencia-de-uso/</td>\n",
       "      <td>True</td>\n",
       "      <td>False</td>\n",
       "      <td>False</td>\n",
       "      <td>2.9</td>\n",
       "      <td>13</td>\n",
       "    </tr>\n",
       "    <tr>\n",
       "      <th>2</th>\n",
       "      <td>Vibook</td>\n",
       "      <td>com.doantiepvien.crm</td>\n",
       "      <td>Productivity</td>\n",
       "      <td>0.0</td>\n",
       "      <td>0.0</td>\n",
       "      <td>50+</td>\n",
       "      <td>50.0</td>\n",
       "      <td>58</td>\n",
       "      <td>True</td>\n",
       "      <td>0.0</td>\n",
       "      <td>USD</td>\n",
       "      <td>3.7M</td>\n",
       "      <td>4.0.3 and up</td>\n",
       "      <td>Cabin Crew</td>\n",
       "      <td>not present</td>\n",
       "      <td>vnacrewit@gmail.com</td>\n",
       "      <td>2019-08-09</td>\n",
       "      <td>2019-08-19</td>\n",
       "      <td>Everyone</td>\n",
       "      <td>https://www.vietnamairlines.com/vn/en/terms-an...</td>\n",
       "      <td>False</td>\n",
       "      <td>False</td>\n",
       "      <td>False</td>\n",
       "      <td>3.7</td>\n",
       "      <td>22</td>\n",
       "    </tr>\n",
       "    <tr>\n",
       "      <th>3</th>\n",
       "      <td>Smart City Trichy Public Service Vehicles 17UC...</td>\n",
       "      <td>cst.stJoseph.ug17ucs548</td>\n",
       "      <td>Communication</td>\n",
       "      <td>5.0</td>\n",
       "      <td>5.0</td>\n",
       "      <td>10+</td>\n",
       "      <td>10.0</td>\n",
       "      <td>19</td>\n",
       "      <td>True</td>\n",
       "      <td>0.0</td>\n",
       "      <td>USD</td>\n",
       "      <td>1.8M</td>\n",
       "      <td>4.0.3 and up</td>\n",
       "      <td>Climate Smart Tech2</td>\n",
       "      <td>http://www.climatesmarttech.com/</td>\n",
       "      <td>climatesmarttech2@gmail.com</td>\n",
       "      <td>2018-09-10</td>\n",
       "      <td>2018-10-13</td>\n",
       "      <td>Everyone</td>\n",
       "      <td>not present</td>\n",
       "      <td>True</td>\n",
       "      <td>False</td>\n",
       "      <td>False</td>\n",
       "      <td>1.8</td>\n",
       "      <td>33</td>\n",
       "    </tr>\n",
       "    <tr>\n",
       "      <th>5</th>\n",
       "      <td>IMOCCI</td>\n",
       "      <td>com.imocci</td>\n",
       "      <td>Social</td>\n",
       "      <td>0.0</td>\n",
       "      <td>0.0</td>\n",
       "      <td>50+</td>\n",
       "      <td>50.0</td>\n",
       "      <td>89</td>\n",
       "      <td>True</td>\n",
       "      <td>0.0</td>\n",
       "      <td>USD</td>\n",
       "      <td>46M</td>\n",
       "      <td>6.0 and up</td>\n",
       "      <td>Imocci GmbH</td>\n",
       "      <td>http://www.imocci.com</td>\n",
       "      <td>info@imocci.com</td>\n",
       "      <td>2018-12-24</td>\n",
       "      <td>2019-12-20</td>\n",
       "      <td>Teen</td>\n",
       "      <td>https://www.imocci.com/wp-content/uploads/2018...</td>\n",
       "      <td>False</td>\n",
       "      <td>True</td>\n",
       "      <td>False</td>\n",
       "      <td>46.0</td>\n",
       "      <td>30</td>\n",
       "    </tr>\n",
       "    <tr>\n",
       "      <th>6</th>\n",
       "      <td>unlimited 4G data prank free app</td>\n",
       "      <td>getfreedata.superfatiza.unlimitedjiodataprank</td>\n",
       "      <td>Libraries &amp; Demo</td>\n",
       "      <td>4.5</td>\n",
       "      <td>12.0</td>\n",
       "      <td>1,000+</td>\n",
       "      <td>1000.0</td>\n",
       "      <td>2567</td>\n",
       "      <td>True</td>\n",
       "      <td>0.0</td>\n",
       "      <td>USD</td>\n",
       "      <td>2.5M</td>\n",
       "      <td>4.1 and up</td>\n",
       "      <td>android developer779</td>\n",
       "      <td>not present</td>\n",
       "      <td>aitomgharfatimezzahra@gmail.com</td>\n",
       "      <td>2019-09-23</td>\n",
       "      <td>2019-09-27</td>\n",
       "      <td>Everyone</td>\n",
       "      <td>https://sites.google.com/view/unlimited4gdatap...</td>\n",
       "      <td>True</td>\n",
       "      <td>False</td>\n",
       "      <td>False</td>\n",
       "      <td>2.5</td>\n",
       "      <td>21</td>\n",
       "    </tr>\n",
       "  </tbody>\n",
       "</table>\n",
       "</div>"
      ],
      "text/plain": [
       "                                            App Name  \\\n",
       "1                                Ampere Battery Info   \n",
       "2                                             Vibook   \n",
       "3  Smart City Trichy Public Service Vehicles 17UC...   \n",
       "5                                             IMOCCI   \n",
       "6                   unlimited 4G data prank free app   \n",
       "\n",
       "                                          App Id          Category  Rating  \\\n",
       "1                     com.webserveis.batteryinfo             Tools     4.4   \n",
       "2                           com.doantiepvien.crm      Productivity     0.0   \n",
       "3                        cst.stJoseph.ug17ucs548     Communication     5.0   \n",
       "5                                     com.imocci            Social     0.0   \n",
       "6  getfreedata.superfatiza.unlimitedjiodataprank  Libraries & Demo     4.5   \n",
       "\n",
       "   Rating Count Installs  Minimum Installs  Maximum Installs  Free  Price  \\\n",
       "1          64.0   5,000+            5000.0              7662  True    0.0   \n",
       "2           0.0      50+              50.0                58  True    0.0   \n",
       "3           5.0      10+              10.0                19  True    0.0   \n",
       "5           0.0      50+              50.0                89  True    0.0   \n",
       "6          12.0   1,000+            1000.0              2567  True    0.0   \n",
       "\n",
       "  Currency  Size Minimum Android          Developer Id  \\\n",
       "1      USD  2.9M      5.0 and up            Webserveis   \n",
       "2      USD  3.7M    4.0.3 and up            Cabin Crew   \n",
       "3      USD  1.8M    4.0.3 and up   Climate Smart Tech2   \n",
       "5      USD   46M      6.0 and up           Imocci GmbH   \n",
       "6      USD  2.5M      4.1 and up  android developer779   \n",
       "\n",
       "                  Developer Website                  Developer Email  \\\n",
       "1   https://webserveis.netlify.app/             webserveis@gmail.com   \n",
       "2                       not present              vnacrewit@gmail.com   \n",
       "3  http://www.climatesmarttech.com/      climatesmarttech2@gmail.com   \n",
       "5             http://www.imocci.com                  info@imocci.com   \n",
       "6                       not present  aitomgharfatimezzahra@gmail.com   \n",
       "\n",
       "    Released Last Updated Content Rating  \\\n",
       "1 2020-05-21   2021-05-06       Everyone   \n",
       "2 2019-08-09   2019-08-19       Everyone   \n",
       "3 2018-09-10   2018-10-13       Everyone   \n",
       "5 2018-12-24   2019-12-20           Teen   \n",
       "6 2019-09-23   2019-09-27       Everyone   \n",
       "\n",
       "                                      Privacy Policy  Ad Supported  \\\n",
       "1  https://dev4phones.wordpress.com/licencia-de-uso/          True   \n",
       "2  https://www.vietnamairlines.com/vn/en/terms-an...         False   \n",
       "3                                        not present          True   \n",
       "5  https://www.imocci.com/wp-content/uploads/2018...         False   \n",
       "6  https://sites.google.com/view/unlimited4gdatap...          True   \n",
       "\n",
       "   In App Purchases  Editors Choice  size_in_MB  age_in_month  \n",
       "1             False           False         2.9            13  \n",
       "2             False           False         3.7            22  \n",
       "3             False           False         1.8            33  \n",
       "5              True           False        46.0            30  \n",
       "6             False           False         2.5            21  "
      ]
     },
     "execution_count": 107,
     "metadata": {},
     "output_type": "execute_result"
    }
   ],
   "source": [
    "df.head()"
   ]
  },
  {
   "cell_type": "markdown",
   "metadata": {},
   "source": [
    " **Q1.** Is there any correlations between rating and dowloads?"
   ]
  },
  {
   "cell_type": "code",
   "execution_count": 108,
   "metadata": {},
   "outputs": [
    {
     "data": {
      "image/png": "[encoded data removed]",
      "text/plain": [
       "<Figure size 640x480 with 1 Axes>"
      ]
     },
     "metadata": {},
     "output_type": "display_data"
    }
   ],
   "source": [
    "fig, ax = plt.subplots()\n",
    "sns.scatterplot(data=df,x=\"Maximum Installs\",y=\"Rating\",c=\"blue\",ax=ax)\n",
    "plt.savefig(\"../images/scatterplotinstall_vs_rating.png\")\n",
    "plt.show()"
   ]
  },
  {
   "cell_type": "code",
   "execution_count": 109,
   "metadata": {},
   "outputs": [
    {
     "data": {
      "image/png": "[encoded data removed]",
      "text/plain": [
       "<Figure size 640x480 with 2 Axes>"
      ]
     },
     "metadata": {},
     "output_type": "display_data"
    }
   ],
   "source": [
    "fig, ax=plt.subplots()\n",
    "sns.heatmap(df[[\"Maximum Installs\",\"Rating\"]].corr(),annot=True, ax=ax)\n",
    "plt.savefig(\"../images/heatmapinstall_vs_rating.png\")\n",
    "plt.show()"
   ]
  },
  {
   "cell_type": "markdown",
   "metadata": {},
   "source": [
    "**Ans 1:** Not seen any relationship in apps with less downloads, but it is seen that apps with more downloads have quit decent rating."
   ]
  },
  {
   "cell_type": "markdown",
   "metadata": {},
   "source": [
    "**Q2:** Is there any relationship between downloads and app type(free/paid)?"
   ]
  },
  {
   "cell_type": "code",
   "execution_count": 110,
   "metadata": {},
   "outputs": [
    {
     "data": {
      "text/plain": [
       "Free\n",
       "False     19730.857384\n",
       "True     398234.160508\n",
       "Name: Maximum Installs, dtype: float64"
      ]
     },
     "execution_count": 110,
     "metadata": {},
     "output_type": "execute_result"
    }
   ],
   "source": [
    "df.groupby(\"Free\")[\"Maximum Installs\"].mean()"
   ]
  },
  {
   "cell_type": "code",
   "execution_count": 111,
   "metadata": {},
   "outputs": [
    {
     "data": {
      "image/png": "[encoded data removed]",
      "text/plain": [
       "<Figure size 640x480 with 1 Axes>"
      ]
     },
     "metadata": {},
     "output_type": "display_data"
    }
   ],
   "source": [
    "fig, ax=plt.subplots()\n",
    "df.groupby(\"Free\")[\"Maximum Installs\"].mean().plot(kind=\"bar\",color=\"blue\",ax=ax)\n",
    "plt.savefig(\"../images/freeinstalls_distribution.png\")\n",
    "plt.show()"
   ]
  },
  {
   "cell_type": "markdown",
   "metadata": {},
   "source": [
    "**Ans 2:** Free apps generally have more downloads than that of paid ones"
   ]
  },
  {
   "cell_type": "markdown",
   "metadata": {},
   "source": [
    "**Q3.** Which TOP 5 app categories have the most number of apps?"
   ]
  },
  {
   "cell_type": "code",
   "execution_count": 112,
   "metadata": {},
   "outputs": [
    {
     "data": {
      "text/plain": [
       "array(['Tools', 'Productivity', 'Communication', 'Social',\n",
       "       'Libraries & Demo', 'Personalization', 'Maps & Navigation',\n",
       "       'Travel & Local', 'Food & Drink', 'Lifestyle', 'Books & Reference',\n",
       "       'Medical', 'Puzzle', 'Entertainment', 'Arcade', 'Auto & Vehicles',\n",
       "       'Photography', 'Health & Fitness', 'Education', 'Shopping',\n",
       "       'Board', 'Music & Audio', 'Sports', 'Beauty', 'Business',\n",
       "       'Finance', 'News & Magazines', 'Casual', 'House & Home', 'Racing',\n",
       "       'Card', 'Events', 'Trivia', 'Weather', 'Adventure', 'Strategy',\n",
       "       'Word', 'Action', 'Music', 'Video Players & Editors', 'Simulation',\n",
       "       'Dating', 'Role Playing', 'Art & Design', 'Educational', 'Casino',\n",
       "       'Comics', 'Parenting'], dtype=object)"
      ]
     },
     "execution_count": 112,
     "metadata": {},
     "output_type": "execute_result"
    }
   ],
   "source": [
    "df[\"Category\"].unique()"
   ]
  },
  {
   "cell_type": "code",
   "execution_count": 113,
   "metadata": {},
   "outputs": [
    {
     "data": {
      "text/plain": [
       "Category\n",
       "Education        186858\n",
       "Tools            109972\n",
       "Business         109721\n",
       "Music & Audio    108859\n",
       "Entertainment     98586\n",
       "Name: count, dtype: int64"
      ]
     },
     "execution_count": 113,
     "metadata": {},
     "output_type": "execute_result"
    }
   ],
   "source": [
    "top_numbers=df.Category.value_counts().sort_values(ascending=False).head()\n",
    "top_numbers"
   ]
  },
  {
   "cell_type": "code",
   "execution_count": 114,
   "metadata": {},
   "outputs": [
    {
     "data": {
      "image/png": "[encoded data removed]",
      "text/plain": [
       "<Figure size 640x480 with 1 Axes>"
      ]
     },
     "metadata": {},
     "output_type": "display_data"
    }
   ],
   "source": [
    "fig,ax=plt.subplots()\n",
    "sns.barplot(x=top_numbers,color=\"blue\",ax=ax)\n",
    "plt.savefig(\"../images/heatmapinstall_vs_rating.png\")\n",
    "plt.show()"
   ]
  },
  {
   "cell_type": "markdown",
   "metadata": {},
   "source": [
    "**Ans 3:** Education, Music & Audio, Tools, Business and Entertainment have the most number of apps."
   ]
  },
  {
   "cell_type": "markdown",
   "metadata": {},
   "source": [
    "**Q4.** Which TOP 5 app categories have the most downloads?"
   ]
  },
  {
   "cell_type": "code",
   "execution_count": 115,
   "metadata": {},
   "outputs": [
    {
     "data": {
      "text/plain": [
       "Category\n",
       "Tools                      105033880160\n",
       "Communication               70832882224\n",
       "Productivity                43814986522\n",
       "Photography                 30659045949\n",
       "Video Players & Editors     30408149074\n",
       "Name: Maximum Installs, dtype: int64"
      ]
     },
     "execution_count": 115,
     "metadata": {},
     "output_type": "execute_result"
    }
   ],
   "source": [
    "top_downloads=df.groupby(\"Category\")[\"Maximum Installs\"].sum().sort_values(ascending=False).head()\n",
    "top_downloads"
   ]
  },
  {
   "cell_type": "code",
   "execution_count": 116,
   "metadata": {},
   "outputs": [
    {
     "data": {
      "text/plain": [
       "<Axes: xlabel='Maximum Installs'>"
      ]
     },
     "execution_count": 116,
     "metadata": {},
     "output_type": "execute_result"
    },
    {
     "data": {
      "image/png": "[encoded data removed]",
      "text/plain": [
       "<Figure size 640x480 with 1 Axes>"
      ]
     },
     "metadata": {},
     "output_type": "display_data"
    }
   ],
   "source": [
    "sns.barplot(x=top_downloads,color=\"blue\")"
   ]
  },
  {
   "cell_type": "markdown",
   "metadata": {},
   "source": [
    "**Ans 4:** Tools, Communication, Productivity, Photography, Video Players & Editors have the most number of downloads."
   ]
  },
  {
   "cell_type": "markdown",
   "metadata": {},
   "source": [
    "**Q5.** How does the price of an app (free vs. paid) affect its rating?"
   ]
  },
  {
   "cell_type": "code",
   "execution_count": 117,
   "metadata": {},
   "outputs": [
    {
     "data": {
      "image/png": "[encoded data removed]",
      "text/plain": [
       "<Figure size 640x480 with 1 Axes>"
      ]
     },
     "metadata": {},
     "output_type": "display_data"
    }
   ],
   "source": [
    "fig,ax=plt.subplots()\n",
    "sns.barplot(data=df,x=\"Free\",y=\"Rating\",color=\"blue\",ax=ax)\n",
    "plt.savefig(\"../images/barchartFree_vs_Rating.png\")\n",
    "plt.show()"
   ]
  },
  {
   "cell_type": "code",
   "execution_count": 118,
   "metadata": {},
   "outputs": [
    {
     "data": {
      "image/png": "[encoded data removed]",
      "text/plain": [
       "<Figure size 640x480 with 1 Axes>"
      ]
     },
     "metadata": {},
     "output_type": "display_data"
    }
   ],
   "source": [
    "fig,ax=plt.subplots()\n",
    "sns.scatterplot(data=df,x=\"Rating\",y=\"Price\",hue=\"Free\",ax=ax)\n",
    "plt.savefig(\"../images/scatterplotRating_vs_price.png\")\n",
    "plt.show()"
   ]
  },
  {
   "cell_type": "markdown",
   "metadata": {},
   "source": [
    "**Ans 5:** Rating of apps is independent of their price."
   ]
  },
  {
   "cell_type": "markdown",
   "metadata": {},
   "source": [
    "**Q6.** How does app size relate to installs?"
   ]
  },
  {
   "cell_type": "code",
   "execution_count": 119,
   "metadata": {},
   "outputs": [
    {
     "data": {
      "image/png": "[encoded data removed]",
      "text/plain": [
       "<Figure size 640x480 with 1 Axes>"
      ]
     },
     "metadata": {},
     "output_type": "display_data"
    }
   ],
   "source": [
    "fig,ax=plt.subplots()\n",
    "sns.scatterplot(data=df,x=\"Maximum Installs\",y=\"size_in_MB\",color=\"blue\",ax=ax)\n",
    "plt.savefig(\"../images/scatterplotinstall_vs_size.png\")\n",
    "plt.show()"
   ]
  },
  {
   "cell_type": "markdown",
   "metadata": {},
   "source": [
    "**Ans 6:** Apps with less than 200 MBs gets more downloads"
   ]
  },
  {
   "cell_type": "markdown",
   "metadata": {},
   "source": [
    "**Q7.** Are Size and Rating dependent on each other? \n"
   ]
  },
  {
   "cell_type": "code",
   "execution_count": 120,
   "metadata": {},
   "outputs": [
    {
     "data": {
      "image/png": "[encoded data removed]",
      "text/plain": [
       "<Figure size 640x480 with 1 Axes>"
      ]
     },
     "metadata": {},
     "output_type": "display_data"
    }
   ],
   "source": [
    "fig,ax=plt.subplots()\n",
    "sns.scatterplot(data=df,x=\"Rating\",y=\"size_in_MB\",color=\"blue\",ax=ax)\n",
    "plt.savefig(\"../images/scatterplotRating_vs_size.png\")\n",
    "plt.show()"
   ]
  },
  {
   "cell_type": "markdown",
   "metadata": {},
   "source": [
    "**Ans 7:** Apps with high size and installs seems to have descent rating."
   ]
  },
  {
   "cell_type": "markdown",
   "metadata": {},
   "source": [
    "**Q8.** Does the content rating of an app (e.g., Everyone, Teen, Mature) influence its install base?"
   ]
  },
  {
   "cell_type": "code",
   "execution_count": 121,
   "metadata": {},
   "outputs": [
    {
     "data": {
      "text/plain": [
       "Content Rating\n",
       "Everyone           500867597158\n",
       "Teen               131529652823\n",
       "Everyone 10+        30428061688\n",
       "Mature 17+          20938512547\n",
       "Adults only 18+        28425168\n",
       "Unrated                 4081365\n",
       "Name: Maximum Installs, dtype: int64"
      ]
     },
     "execution_count": 121,
     "metadata": {},
     "output_type": "execute_result"
    }
   ],
   "source": [
    "df.groupby(\"Content Rating\")[\"Maximum Installs\"].sum().sort_values(ascending=False)"
   ]
  },
  {
   "cell_type": "code",
   "execution_count": 122,
   "metadata": {},
   "outputs": [
    {
     "data": {
      "image/png": "[encoded data removed]",
      "text/plain": [
       "<Figure size 640x480 with 1 Axes>"
      ]
     },
     "metadata": {},
     "output_type": "display_data"
    }
   ],
   "source": [
    "fig,ax=plt.subplots()\n",
    "df.groupby(\"Content Rating\")[\"Maximum Installs\"].sum().sort_values(ascending=False).plot(kind=\"barh\",color=\"blue\",ax=ax)\n",
    "plt.savefig(\"../images/barchartContent_vs_installs.png\")\n",
    "plt.show()"
   ]
  },
  {
   "cell_type": "markdown",
   "metadata": {},
   "source": [
    "**Ans 8:** Content Rating for everyone have highest installs after that category of teens is more powerfull in terms of insall base."
   ]
  },
  {
   "cell_type": "markdown",
   "metadata": {},
   "source": [
    "**Q9.** Which Year has the most number of apps released?"
   ]
  },
  {
   "cell_type": "code",
   "execution_count": 123,
   "metadata": {},
   "outputs": [],
   "source": [
    "# generating new column of year from released date\n",
    "df['released_Year'] = pd.to_datetime(df['Released']).dt.year.sort_values(ascending=False)"
   ]
  },
  {
   "cell_type": "code",
   "execution_count": 124,
   "metadata": {},
   "outputs": [
    {
     "data": {
      "text/plain": [
       "released_Year\n",
       "2020    389158\n",
       "2019    366582\n",
       "2018    272648\n",
       "2017    215067\n",
       "2016    147594\n",
       "2021    104128\n",
       "2015    103568\n",
       "2014     67556\n",
       "2013     41612\n",
       "2012     25017\n",
       "2011     13990\n",
       "2010      4566\n",
       "Name: count, dtype: int64"
      ]
     },
     "execution_count": 124,
     "metadata": {},
     "output_type": "execute_result"
    }
   ],
   "source": [
    "df[\"released_Year\"].value_counts().sort_values(ascending=False)"
   ]
  },
  {
   "cell_type": "code",
   "execution_count": 125,
   "metadata": {},
   "outputs": [
    {
     "data": {
      "image/png": "[encoded data removed]",
      "text/plain": [
       "<Figure size 640x480 with 1 Axes>"
      ]
     },
     "metadata": {},
     "output_type": "display_data"
    }
   ],
   "source": [
    "# plot to show number of apps released, according to year\n",
    "fig,ax=plt.subplots()\n",
    "df[\"released_Year\"].value_counts().sort_values(ascending=False).plot(kind=\"barh\",color=\"blue\",ax=ax)\n",
    "plt.savefig(\"../images/barchartReleasedyear.png\")\n",
    "plt.show()"
   ]
  },
  {
   "cell_type": "markdown",
   "metadata": {},
   "source": [
    "**Ans 9:** Till this data most number of apps released were in 2020."
   ]
  },
  {
   "cell_type": "markdown",
   "metadata": {},
   "source": [
    "**Q10.** Apps released in Which Year could the most number of app downloads?"
   ]
  },
  {
   "cell_type": "code",
   "execution_count": 126,
   "metadata": {},
   "outputs": [
    {
     "data": {
      "text/plain": [
       "released_Year\n",
       "2015    4.533025e+10\n",
       "2012    4.496979e+10\n",
       "2013    4.130224e+10\n",
       "2017    4.094372e+10\n",
       "2014    3.855627e+10\n",
       "2010    3.712798e+10\n",
       "2016    3.408687e+10\n",
       "2018    3.302314e+10\n",
       "2011    2.752461e+10\n",
       "2019    2.728610e+10\n",
       "2020    1.800780e+10\n",
       "2021    2.466482e+09\n",
       "Name: Minimum Installs, dtype: float64"
      ]
     },
     "execution_count": 126,
     "metadata": {},
     "output_type": "execute_result"
    }
   ],
   "source": [
    "ch=df.groupby(\"released_Year\")[\"Minimum Installs\"].sum().sort_values(ascending=False)\n",
    "ch"
   ]
  },
  {
   "cell_type": "code",
   "execution_count": 127,
   "metadata": {},
   "outputs": [
    {
     "data": {
      "image/png": "[encoded data removed]",
      "text/plain": [
       "<Figure size 640x480 with 1 Axes>"
      ]
     },
     "metadata": {},
     "output_type": "display_data"
    }
   ],
   "source": [
    "fig,ax=plt.subplots()\n",
    "ch.plot(kind=\"barh\",color=\"blue\",ax=ax)\n",
    "plt.savefig(\"../images/barchartReleasedyear_vs_minimuminstalls.png\")\n",
    "plt.show()"
   ]
  },
  {
   "cell_type": "markdown",
   "metadata": {},
   "source": [
    "**Ans 10:** Most downloads from playstore has been achieved by apps released in 2015."
   ]
  },
  {
   "cell_type": "markdown",
   "metadata": {},
   "source": [
    "**Q11:** Does app age influences it's downoads?"
   ]
  },
  {
   "cell_type": "code",
   "execution_count": 128,
   "metadata": {},
   "outputs": [
    {
     "data": {
      "image/png": "[encoded data removed]",
      "text/plain": [
       "<Figure size 640x480 with 1 Axes>"
      ]
     },
     "metadata": {},
     "output_type": "display_data"
    }
   ],
   "source": [
    "fig,ax=plt.subplots()\n",
    "sns.scatterplot(df,x=\"age_in_month\",y=\"Maximum Installs\",color=\"blue\",ax=ax)\n",
    "plt.savefig(\"../images/scatterplotage_vs_installs.png\")\n",
    "plt.show()"
   ]
  },
  {
   "cell_type": "code",
   "execution_count": 129,
   "metadata": {},
   "outputs": [
    {
     "data": {
      "text/html": [
       "<div>\n",
       "<style scoped>\n",
       "    .dataframe tbody tr th:only-of-type {\n",
       "        vertical-align: middle;\n",
       "    }\n",
       "\n",
       "    .dataframe tbody tr th {\n",
       "        vertical-align: top;\n",
       "    }\n",
       "\n",
       "    .dataframe thead th {\n",
       "        text-align: right;\n",
       "    }\n",
       "</style>\n",
       "<table border=\"1\" class=\"dataframe\">\n",
       "  <thead>\n",
       "    <tr style=\"text-align: right;\">\n",
       "      <th></th>\n",
       "      <th>age_in_month</th>\n",
       "      <th>Maximum Installs</th>\n",
       "    </tr>\n",
       "  </thead>\n",
       "  <tbody>\n",
       "    <tr>\n",
       "      <th>age_in_month</th>\n",
       "      <td>1.00000</td>\n",
       "      <td>0.02302</td>\n",
       "    </tr>\n",
       "    <tr>\n",
       "      <th>Maximum Installs</th>\n",
       "      <td>0.02302</td>\n",
       "      <td>1.00000</td>\n",
       "    </tr>\n",
       "  </tbody>\n",
       "</table>\n",
       "</div>"
      ],
      "text/plain": [
       "                  age_in_month  Maximum Installs\n",
       "age_in_month           1.00000           0.02302\n",
       "Maximum Installs       0.02302           1.00000"
      ]
     },
     "execution_count": 129,
     "metadata": {},
     "output_type": "execute_result"
    }
   ],
   "source": [
    "df[[\"age_in_month\",\"Maximum Installs\"]].corr()"
   ]
  },
  {
   "cell_type": "markdown",
   "metadata": {},
   "source": [
    "**Ans 11:** No, app age donot inflence it's downloads."
   ]
  },
  {
   "cell_type": "markdown",
   "metadata": {},
   "source": [
    "**Q12.** Show interdependency of all numerical features"
   ]
  },
  {
   "cell_type": "code",
   "execution_count": 130,
   "metadata": {},
   "outputs": [
    {
     "data": {
      "image/png": "[encoded data removed]",
      "text/plain": [
       "<Figure size 640x480 with 2 Axes>"
      ]
     },
     "metadata": {},
     "output_type": "display_data"
    }
   ],
   "source": [
    "fig,ax=plt.subplots()\n",
    "sns.heatmap(df[[\"Rating\",\"Rating Count\",\"Minimum Installs\",\"Maximum Installs\",\"Price\",\"size_in_MB\",\"released_Year\"]].corr(),annot=True,ax=ax)\n",
    "plt.savefig(\"../images/HeatMap_all_num_clmns.png\")\n",
    "plt.show()\n"
   ]
  },
  {
   "cell_type": "markdown",
   "metadata": {},
   "source": [
    "**Ans 12:** As the value of \"Maximum Installs\" increases, the value of the \"Rating Count\" tends to increase as well, but not always by the same amount."
   ]
  },
  {
   "cell_type": "markdown",
   "metadata": {},
   "source": [
    "<html>\n",
    "<head>\n",
    "    <style>\n",
    "        .chapter-heading {\n",
    "            background: linear-gradient(45deg, #333 25%, transparent 25%, transparent 75%, #333 75%, #333);\n",
    "            color: #4285F4;\n",
    "            padding: 10px;\n",
    "            border-radius: 5px;\n",
    "            box-shadow: 0 2px 4px rgba(0, 0, 0, 0.2);\n",
    "            text-align: center;\n",
    "            font-size: 18px;\n",
    "            font-weight: bold;\n",
    "            margin-bottom: 10px;\n",
    "        }\n",
    "    </style>\n",
    "</head>\n",
    "<body>\n",
    "    <div class=\"chapter-heading\">\n",
    "        <h1>7.0 Summary</h1>\n",
    "    </div>\n",
    "</body>\n",
    "</html>"
   ]
  },
  {
   "cell_type": "markdown",
   "metadata": {},
   "source": [
    "The EDA exercise conducted on the Google Play Store dataset has yielded numerous interesting insights. The dataset was found to be relatively clean and consistent throughout the analysis. We posed several questions to the dataset and provided detailed answers and findings as follows:\n",
    "\n",
    "**Q1.** Is there any correlations between rating and dowloads?\n",
    "\n",
    "**Ans 1:** Not seen any relationship in apps with less downloads, but it is seen that apps with more downloads have quite more rating.\n",
    "\n",
    "**Q2:** Is there any relationship between downloads and app type(free/paid)?\n",
    "\n",
    "**Ans 2:** Free apps generally have more downloads than that of paid ones\n",
    "\n",
    "**Q3.** Which TOP 5 app categories have the most number of apps?\n",
    "\n",
    "**Ans 3:** Education, Music & Audio, Tools, Business and Entertainment have the most number of apps.\n",
    "\n",
    "**Q4.** Which TOP 5 app categories have the most downloads?\n",
    "\n",
    "**Ans 4:** Tools, Communication, Productivity, Photography, Video Players & Editors have the most number of downloads.\n",
    "\n",
    "**Q5.** How does the price of an app (free vs. paid) affect its rating?\n",
    "\n",
    "**Ans 5:** Rating of apps is independent of their price.\n",
    "\n",
    "**Q6.** How does app size relate to installs?\n",
    "\n",
    "**Ans 6:** Apps with less than 200 MBs gets more downloads.\n",
    "\n",
    "**Q7.** Are Size and Rating dependent on each other? \n",
    "\n",
    "**Ans 7:** Apps with high size and installs seems to have descent rating.\n",
    "\n",
    "**Q8.** Does the content rating of an app (e.g., Everyone, Teen, Mature) influence its install base?\n",
    "\n",
    "**Ans 8:** Content Rating for everyone have highest installs after that category of teens is more powerfull in terms of insall base.\n",
    "\n",
    "**Q9.** Which Year has the most number of apps released?\n",
    "\n",
    "**Ans 9:** Till this data most number of apps released were in 2020.\n",
    "\n",
    "**Q10.** Apps released in Which Year could get the most number of app downloads?\n",
    "\n",
    "**Ans 10:** Most downloads from playstore has been achieved by apps released in 2015.\n",
    "\n",
    "**Q11:** Does app age influences it's downoads?\n",
    "\n",
    "**Ans 11:** No, app age donot inflence it's downloads.\n",
    "\n",
    "**Q12.** Show interdependency of all numerical features.\n",
    "\n",
    "**Ans 12:** As the value of \"Maximum Installs\" increases, the value of the \"Rating Count\" tends to increase as well, but not always by the same amount."
   ]
  },
  {
   "cell_type": "markdown",
   "metadata": {},
   "source": [
    "<html>\n",
    "<head>\n",
    "    <style>\n",
    "        .chapter-heading {\n",
    "            background: linear-gradient(45deg, #333 25%, transparent 25%, transparent 75%, #333 75%, #333);\n",
    "            color: #4285F4;\n",
    "            padding: 10px;\n",
    "            border-radius: 5px;\n",
    "            box-shadow: 0 2px 4px rgba(0, 0, 0, 0.2);\n",
    "            text-align: center;\n",
    "            font-size: 18px;\n",
    "            font-weight: bold;\n",
    "            margin-bottom: 10px;\n",
    "        }\n",
    "    </style>\n",
    "</head>\n",
    "<body>\n",
    "    <div class=\"chapter-heading\">\n",
    "        <h1>08 Contact Details</h1>\n",
    "    </div>\n",
    "</body>\n",
    "</html>"
   ]
  },
  {
   "cell_type": "markdown",
   "metadata": {},
   "source": [
    "Click on link below to contact/follow/correct me:\n",
    "\n",
    " - **Email:** waqasliaqat630@gmailcom\n",
    "- [Linkedin](https://www.linkedin.com/in/muhammad-waqas-liaqat/)\n",
    "- [Github](https://github.com/waqas-liaqat)\n",
    "- [kaggle](https://www.kaggle.com/muhammadwaqas630)"
   ]
  }
 ],
 "metadata": {
  "kernelspec": {
   "display_name": "python_ml",
   "language": "python",
   "name": "python3"
  },
  "language_info": {
   "codemirror_mode": {
    "name": "ipython",
    "version": 3
   },
   "file_extension": ".py",
   "mimetype": "text/x-python",
   "name": "python",
   "nbconvert_exporter": "python",
   "pygments_lexer": "ipython3",
   "version": "3.11.9"
  }
 },
 "nbformat": 4,
 "nbformat_minor": 2
}
